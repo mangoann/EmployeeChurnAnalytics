{
 "cells": [
  {
   "cell_type": "code",
   "execution_count": 1,
   "id": "5d10b3bc",
   "metadata": {},
   "outputs": [],
   "source": [
    "import numpy as np\n",
    "import pandas as pd\n",
    "from pandas import Series, DataFrame\n",
    "import matplotlib as plt"
   ]
  },
  {
   "cell_type": "code",
   "execution_count": 2,
   "id": "20876dca",
   "metadata": {},
   "outputs": [],
   "source": [
    "# Load employee_info source table\n",
    "data1 = pd.read_csv(\"/Users/leanhe/Desktop/Github/Employee_Churn_Analytics/Employee_info.csv\")"
   ]
  },
  {
   "cell_type": "code",
   "execution_count": 3,
   "id": "607f909e",
   "metadata": {},
   "outputs": [
    {
     "name": "stdout",
     "output_type": "stream",
     "text": [
      "<class 'pandas.core.frame.DataFrame'>\n",
      "RangeIndex: 1480 entries, 0 to 1479\n",
      "Data columns (total 38 columns):\n",
      " #   Column                    Non-Null Count  Dtype  \n",
      "---  ------                    --------------  -----  \n",
      " 0   EmpID                     1480 non-null   object \n",
      " 1   Age                       1480 non-null   int64  \n",
      " 2   AgeGroup                  1480 non-null   object \n",
      " 3   Attrition                 1480 non-null   object \n",
      " 4   BusinessTravel            1480 non-null   object \n",
      " 5   DailyRate                 1480 non-null   int64  \n",
      " 6   Department                1480 non-null   object \n",
      " 7   DistanceFromHome          1478 non-null   float64\n",
      " 8   Education                 1480 non-null   int64  \n",
      " 9   EducationField            1480 non-null   object \n",
      " 10  EmployeeCount             1480 non-null   int64  \n",
      " 11  EmployeeNumber            1480 non-null   int64  \n",
      " 12  EnvironmentSatisfaction   1480 non-null   int64  \n",
      " 13  Gender                    1479 non-null   object \n",
      " 14  HourlyRate                1479 non-null   float64\n",
      " 15  JobInvolvement            1480 non-null   int64  \n",
      " 16  JobLevel                  1480 non-null   int64  \n",
      " 17  JobRole                   1480 non-null   object \n",
      " 18  JobSatisfaction           1478 non-null   float64\n",
      " 19  MaritalStatus             1480 non-null   object \n",
      " 20  MonthlyIncome             1480 non-null   int64  \n",
      " 21  SalarySlab                1480 non-null   object \n",
      " 22  MonthlyRate               1480 non-null   int64  \n",
      " 23  NumCompaniesWorked        1480 non-null   int64  \n",
      " 24  Over18                    1480 non-null   object \n",
      " 25  OverTime                  1480 non-null   object \n",
      " 26  PercentSalaryHike         1480 non-null   int64  \n",
      " 27  PerformanceRating         1480 non-null   int64  \n",
      " 28  RelationshipSatisfaction  1480 non-null   int64  \n",
      " 29  StandardHours             1480 non-null   int64  \n",
      " 30  StockOptionLevel          1480 non-null   int64  \n",
      " 31  TotalWorkingYears         1480 non-null   int64  \n",
      " 32  TrainingTimesLastYear     1480 non-null   int64  \n",
      " 33  WorkLifeBalance           1480 non-null   int64  \n",
      " 34  YearsAtCompany            1480 non-null   int64  \n",
      " 35  YearsInCurrentRole        1480 non-null   int64  \n",
      " 36  YearsSinceLastPromotion   1480 non-null   int64  \n",
      " 37  YearsWithCurrManager      1423 non-null   float64\n",
      "dtypes: float64(4), int64(22), object(12)\n",
      "memory usage: 439.5+ KB\n"
     ]
    }
   ],
   "source": [
    "# Explore table information: data size, columns, data quality, data type\n",
    "data1.info()"
   ]
  },
  {
   "cell_type": "markdown",
   "id": "29eacc06",
   "metadata": {},
   "source": [
    "# Churn Correlation Deep Dive"
   ]
  },
  {
   "cell_type": "markdown",
   "id": "66255636",
   "metadata": {},
   "source": [
    "## 1. Data Cleaning"
   ]
  },
  {
   "cell_type": "markdown",
   "id": "022c2a34",
   "metadata": {},
   "source": [
    "### Step 1: Drop Irrelevant Columns and Columns with No Variance"
   ]
  },
  {
   "cell_type": "code",
   "execution_count": 4,
   "id": "6bfde99c",
   "metadata": {},
   "outputs": [],
   "source": [
    "data1.drop(columns=[\n",
    "    'Over18', \n",
    "    'EmpID', \n",
    "    'EmployeeNumber', \n",
    "    'StandardHours', \n",
    "    'EducationField', \n",
    "    'EmployeeCount',\n",
    "    'JobInvolvement',\n",
    "    'PercentSalaryHike',\n",
    "    'TotalWorkingYears',\n",
    "    'TrainingTimesLastYear',\n",
    "    'MaritalStatus',\n",
    "    'Gender'\n",
    "], inplace=True)"
   ]
  },
  {
   "cell_type": "markdown",
   "id": "4f987455",
   "metadata": {},
   "source": [
    "### Step 2: Remove Redundant Features with Overlapping Information\n",
    "Some columns convey the same information at different levels of granularity—for example, both “Age” and “AgeGroup” reflect age-related data. In such cases, I retain the grouped or more general column and remove the one with overly detailed values to reduce redundancy and simplify the analysis.  \n",
    "- Age/AgeGroup: Keep AgeGroup\n",
    "- DailyRate/HourlyRate/MonthlyRate/MonthlyIncome/SalarySlab: Keep SalarySlab"
   ]
  },
  {
   "cell_type": "code",
   "execution_count": 5,
   "id": "04174574",
   "metadata": {},
   "outputs": [],
   "source": [
    "data1.drop(columns=[\n",
    "        'Age', \n",
    "        'DailyRate', \n",
    "        'HourlyRate',\n",
    "        'MonthlyRate', \n",
    "        'MonthlyIncome',\n",
    "        'EnvironmentSatisfaction',\n",
    "        'RelationshipSatisfaction'\n",
    "], inplace=True)"
   ]
  },
  {
   "cell_type": "markdown",
   "id": "d5122721",
   "metadata": {},
   "source": [
    "### Step 3: Removing Duplications"
   ]
  },
  {
   "cell_type": "code",
   "execution_count": 6,
   "id": "06022eeb",
   "metadata": {},
   "outputs": [
    {
     "name": "stdout",
     "output_type": "stream",
     "text": [
      "True\n",
      "7\n"
     ]
    }
   ],
   "source": [
    "print(data1.duplicated().any())\n",
    "print(data1.duplicated().sum())"
   ]
  },
  {
   "cell_type": "code",
   "execution_count": 7,
   "id": "9a7339cf",
   "metadata": {},
   "outputs": [
    {
     "data": {
      "text/html": [
       "<div>\n",
       "<style scoped>\n",
       "    .dataframe tbody tr th:only-of-type {\n",
       "        vertical-align: middle;\n",
       "    }\n",
       "\n",
       "    .dataframe tbody tr th {\n",
       "        vertical-align: top;\n",
       "    }\n",
       "\n",
       "    .dataframe thead th {\n",
       "        text-align: right;\n",
       "    }\n",
       "</style>\n",
       "<table border=\"1\" class=\"dataframe\">\n",
       "  <thead>\n",
       "    <tr style=\"text-align: right;\">\n",
       "      <th></th>\n",
       "      <th>AgeGroup</th>\n",
       "      <th>Attrition</th>\n",
       "      <th>BusinessTravel</th>\n",
       "      <th>Department</th>\n",
       "      <th>DistanceFromHome</th>\n",
       "      <th>Education</th>\n",
       "      <th>JobLevel</th>\n",
       "      <th>JobRole</th>\n",
       "      <th>JobSatisfaction</th>\n",
       "      <th>SalarySlab</th>\n",
       "      <th>NumCompaniesWorked</th>\n",
       "      <th>OverTime</th>\n",
       "      <th>PerformanceRating</th>\n",
       "      <th>StockOptionLevel</th>\n",
       "      <th>WorkLifeBalance</th>\n",
       "      <th>YearsAtCompany</th>\n",
       "      <th>YearsInCurrentRole</th>\n",
       "      <th>YearsSinceLastPromotion</th>\n",
       "      <th>YearsWithCurrManager</th>\n",
       "    </tr>\n",
       "  </thead>\n",
       "  <tbody>\n",
       "    <tr>\n",
       "      <th>211</th>\n",
       "      <td>26-35</td>\n",
       "      <td>No</td>\n",
       "      <td>Travel_Rarely</td>\n",
       "      <td>Research &amp; Development</td>\n",
       "      <td>4.0</td>\n",
       "      <td>3</td>\n",
       "      <td>2</td>\n",
       "      <td>Manufacturing Director</td>\n",
       "      <td>2.0</td>\n",
       "      <td>5k-10k</td>\n",
       "      <td>1</td>\n",
       "      <td>Yes</td>\n",
       "      <td>4</td>\n",
       "      <td>1</td>\n",
       "      <td>3</td>\n",
       "      <td>6</td>\n",
       "      <td>2</td>\n",
       "      <td>0</td>\n",
       "      <td>3.0</td>\n",
       "    </tr>\n",
       "    <tr>\n",
       "      <th>328</th>\n",
       "      <td>26-35</td>\n",
       "      <td>No</td>\n",
       "      <td>Travel_Rarely</td>\n",
       "      <td>Research &amp; Development</td>\n",
       "      <td>28.0</td>\n",
       "      <td>4</td>\n",
       "      <td>1</td>\n",
       "      <td>Research Scientist</td>\n",
       "      <td>1.0</td>\n",
       "      <td>Upto 5k</td>\n",
       "      <td>1</td>\n",
       "      <td>No</td>\n",
       "      <td>3</td>\n",
       "      <td>0</td>\n",
       "      <td>1</td>\n",
       "      <td>5</td>\n",
       "      <td>4</td>\n",
       "      <td>0</td>\n",
       "      <td>4.0</td>\n",
       "    </tr>\n",
       "    <tr>\n",
       "      <th>458</th>\n",
       "      <td>26-35</td>\n",
       "      <td>No</td>\n",
       "      <td>Non-Travel</td>\n",
       "      <td>Research &amp; Development</td>\n",
       "      <td>5.0</td>\n",
       "      <td>3</td>\n",
       "      <td>2</td>\n",
       "      <td>Manufacturing Director</td>\n",
       "      <td>1.0</td>\n",
       "      <td>5k-10k</td>\n",
       "      <td>0</td>\n",
       "      <td>No</td>\n",
       "      <td>3</td>\n",
       "      <td>0</td>\n",
       "      <td>3</td>\n",
       "      <td>9</td>\n",
       "      <td>4</td>\n",
       "      <td>1</td>\n",
       "      <td>7.0</td>\n",
       "    </tr>\n",
       "    <tr>\n",
       "      <th>655</th>\n",
       "      <td>26-35</td>\n",
       "      <td>No</td>\n",
       "      <td>TravelRarely</td>\n",
       "      <td>Research &amp; Development</td>\n",
       "      <td>8.0</td>\n",
       "      <td>3</td>\n",
       "      <td>2</td>\n",
       "      <td>Laboratory Technician</td>\n",
       "      <td>3.0</td>\n",
       "      <td>Upto 5k</td>\n",
       "      <td>2</td>\n",
       "      <td>No</td>\n",
       "      <td>3</td>\n",
       "      <td>0</td>\n",
       "      <td>4</td>\n",
       "      <td>4</td>\n",
       "      <td>3</td>\n",
       "      <td>1</td>\n",
       "      <td>2.0</td>\n",
       "    </tr>\n",
       "    <tr>\n",
       "      <th>954</th>\n",
       "      <td>36-45</td>\n",
       "      <td>No</td>\n",
       "      <td>Travel_Rarely</td>\n",
       "      <td>Sales</td>\n",
       "      <td>24.0</td>\n",
       "      <td>1</td>\n",
       "      <td>4</td>\n",
       "      <td>Sales Executive</td>\n",
       "      <td>4.0</td>\n",
       "      <td>10k-15k</td>\n",
       "      <td>0</td>\n",
       "      <td>No</td>\n",
       "      <td>3</td>\n",
       "      <td>1</td>\n",
       "      <td>2</td>\n",
       "      <td>20</td>\n",
       "      <td>9</td>\n",
       "      <td>9</td>\n",
       "      <td>6.0</td>\n",
       "    </tr>\n",
       "    <tr>\n",
       "      <th>1305</th>\n",
       "      <td>46-55</td>\n",
       "      <td>No</td>\n",
       "      <td>Travel_Frequently</td>\n",
       "      <td>Sales</td>\n",
       "      <td>2.0</td>\n",
       "      <td>3</td>\n",
       "      <td>2</td>\n",
       "      <td>Sales Executive</td>\n",
       "      <td>2.0</td>\n",
       "      <td>5k-10k</td>\n",
       "      <td>2</td>\n",
       "      <td>No</td>\n",
       "      <td>3</td>\n",
       "      <td>0</td>\n",
       "      <td>2</td>\n",
       "      <td>9</td>\n",
       "      <td>6</td>\n",
       "      <td>0</td>\n",
       "      <td>8.0</td>\n",
       "    </tr>\n",
       "    <tr>\n",
       "      <th>1336</th>\n",
       "      <td>46-55</td>\n",
       "      <td>Yes</td>\n",
       "      <td>Travel_Rarely</td>\n",
       "      <td>Sales</td>\n",
       "      <td>28.0</td>\n",
       "      <td>3</td>\n",
       "      <td>3</td>\n",
       "      <td>Sales Executive</td>\n",
       "      <td>1.0</td>\n",
       "      <td>10k-15k</td>\n",
       "      <td>4</td>\n",
       "      <td>Yes</td>\n",
       "      <td>3</td>\n",
       "      <td>1</td>\n",
       "      <td>3</td>\n",
       "      <td>3</td>\n",
       "      <td>2</td>\n",
       "      <td>2</td>\n",
       "      <td>0.0</td>\n",
       "    </tr>\n",
       "  </tbody>\n",
       "</table>\n",
       "</div>"
      ],
      "text/plain": [
       "     AgeGroup Attrition     BusinessTravel              Department  \\\n",
       "211     26-35        No      Travel_Rarely  Research & Development   \n",
       "328     26-35        No      Travel_Rarely  Research & Development   \n",
       "458     26-35        No         Non-Travel  Research & Development   \n",
       "655     26-35        No       TravelRarely  Research & Development   \n",
       "954     36-45        No      Travel_Rarely                   Sales   \n",
       "1305    46-55        No  Travel_Frequently                   Sales   \n",
       "1336    46-55       Yes      Travel_Rarely                   Sales   \n",
       "\n",
       "      DistanceFromHome  Education  JobLevel                 JobRole  \\\n",
       "211                4.0          3         2  Manufacturing Director   \n",
       "328               28.0          4         1      Research Scientist   \n",
       "458                5.0          3         2  Manufacturing Director   \n",
       "655                8.0          3         2   Laboratory Technician   \n",
       "954               24.0          1         4         Sales Executive   \n",
       "1305               2.0          3         2         Sales Executive   \n",
       "1336              28.0          3         3         Sales Executive   \n",
       "\n",
       "      JobSatisfaction SalarySlab  NumCompaniesWorked OverTime  \\\n",
       "211               2.0     5k-10k                   1      Yes   \n",
       "328               1.0    Upto 5k                   1       No   \n",
       "458               1.0     5k-10k                   0       No   \n",
       "655               3.0    Upto 5k                   2       No   \n",
       "954               4.0    10k-15k                   0       No   \n",
       "1305              2.0     5k-10k                   2       No   \n",
       "1336              1.0    10k-15k                   4      Yes   \n",
       "\n",
       "      PerformanceRating  StockOptionLevel  WorkLifeBalance  YearsAtCompany  \\\n",
       "211                   4                 1                3               6   \n",
       "328                   3                 0                1               5   \n",
       "458                   3                 0                3               9   \n",
       "655                   3                 0                4               4   \n",
       "954                   3                 1                2              20   \n",
       "1305                  3                 0                2               9   \n",
       "1336                  3                 1                3               3   \n",
       "\n",
       "      YearsInCurrentRole  YearsSinceLastPromotion  YearsWithCurrManager  \n",
       "211                    2                        0                   3.0  \n",
       "328                    4                        0                   4.0  \n",
       "458                    4                        1                   7.0  \n",
       "655                    3                        1                   2.0  \n",
       "954                    9                        9                   6.0  \n",
       "1305                   6                        0                   8.0  \n",
       "1336                   2                        2                   0.0  "
      ]
     },
     "execution_count": 7,
     "metadata": {},
     "output_type": "execute_result"
    }
   ],
   "source": [
    "data1[data1.duplicated()]"
   ]
  },
  {
   "cell_type": "code",
   "execution_count": 8,
   "id": "0e4c1990",
   "metadata": {},
   "outputs": [
    {
     "data": {
      "text/html": [
       "<div>\n",
       "<style scoped>\n",
       "    .dataframe tbody tr th:only-of-type {\n",
       "        vertical-align: middle;\n",
       "    }\n",
       "\n",
       "    .dataframe tbody tr th {\n",
       "        vertical-align: top;\n",
       "    }\n",
       "\n",
       "    .dataframe thead th {\n",
       "        text-align: right;\n",
       "    }\n",
       "</style>\n",
       "<table border=\"1\" class=\"dataframe\">\n",
       "  <thead>\n",
       "    <tr style=\"text-align: right;\">\n",
       "      <th></th>\n",
       "      <th>AgeGroup</th>\n",
       "      <th>Attrition</th>\n",
       "      <th>BusinessTravel</th>\n",
       "      <th>Department</th>\n",
       "      <th>DistanceFromHome</th>\n",
       "      <th>Education</th>\n",
       "      <th>JobLevel</th>\n",
       "      <th>JobRole</th>\n",
       "      <th>JobSatisfaction</th>\n",
       "      <th>SalarySlab</th>\n",
       "      <th>NumCompaniesWorked</th>\n",
       "      <th>OverTime</th>\n",
       "      <th>PerformanceRating</th>\n",
       "      <th>StockOptionLevel</th>\n",
       "      <th>WorkLifeBalance</th>\n",
       "      <th>YearsAtCompany</th>\n",
       "      <th>YearsInCurrentRole</th>\n",
       "      <th>YearsSinceLastPromotion</th>\n",
       "      <th>YearsWithCurrManager</th>\n",
       "    </tr>\n",
       "  </thead>\n",
       "  <tbody>\n",
       "    <tr>\n",
       "      <th>0</th>\n",
       "      <td>26-35</td>\n",
       "      <td>No</td>\n",
       "      <td>Non-Travel</td>\n",
       "      <td>Research &amp; Development</td>\n",
       "      <td>5.0</td>\n",
       "      <td>3</td>\n",
       "      <td>2</td>\n",
       "      <td>Manufacturing Director</td>\n",
       "      <td>1.0</td>\n",
       "      <td>5k-10k</td>\n",
       "      <td>0</td>\n",
       "      <td>No</td>\n",
       "      <td>3</td>\n",
       "      <td>0</td>\n",
       "      <td>3</td>\n",
       "      <td>9</td>\n",
       "      <td>4</td>\n",
       "      <td>1</td>\n",
       "      <td>7.0</td>\n",
       "    </tr>\n",
       "    <tr>\n",
       "      <th>1</th>\n",
       "      <td>26-35</td>\n",
       "      <td>No</td>\n",
       "      <td>Non-Travel</td>\n",
       "      <td>Research &amp; Development</td>\n",
       "      <td>5.0</td>\n",
       "      <td>3</td>\n",
       "      <td>2</td>\n",
       "      <td>Manufacturing Director</td>\n",
       "      <td>1.0</td>\n",
       "      <td>5k-10k</td>\n",
       "      <td>0</td>\n",
       "      <td>No</td>\n",
       "      <td>3</td>\n",
       "      <td>0</td>\n",
       "      <td>3</td>\n",
       "      <td>9</td>\n",
       "      <td>4</td>\n",
       "      <td>1</td>\n",
       "      <td>7.0</td>\n",
       "    </tr>\n",
       "    <tr>\n",
       "      <th>2</th>\n",
       "      <td>26-35</td>\n",
       "      <td>No</td>\n",
       "      <td>TravelRarely</td>\n",
       "      <td>Research &amp; Development</td>\n",
       "      <td>8.0</td>\n",
       "      <td>3</td>\n",
       "      <td>2</td>\n",
       "      <td>Laboratory Technician</td>\n",
       "      <td>3.0</td>\n",
       "      <td>Upto 5k</td>\n",
       "      <td>2</td>\n",
       "      <td>No</td>\n",
       "      <td>3</td>\n",
       "      <td>0</td>\n",
       "      <td>4</td>\n",
       "      <td>4</td>\n",
       "      <td>3</td>\n",
       "      <td>1</td>\n",
       "      <td>2.0</td>\n",
       "    </tr>\n",
       "    <tr>\n",
       "      <th>3</th>\n",
       "      <td>26-35</td>\n",
       "      <td>No</td>\n",
       "      <td>TravelRarely</td>\n",
       "      <td>Research &amp; Development</td>\n",
       "      <td>8.0</td>\n",
       "      <td>3</td>\n",
       "      <td>2</td>\n",
       "      <td>Laboratory Technician</td>\n",
       "      <td>3.0</td>\n",
       "      <td>Upto 5k</td>\n",
       "      <td>2</td>\n",
       "      <td>No</td>\n",
       "      <td>3</td>\n",
       "      <td>0</td>\n",
       "      <td>4</td>\n",
       "      <td>4</td>\n",
       "      <td>3</td>\n",
       "      <td>1</td>\n",
       "      <td>2.0</td>\n",
       "    </tr>\n",
       "    <tr>\n",
       "      <th>4</th>\n",
       "      <td>26-35</td>\n",
       "      <td>No</td>\n",
       "      <td>Travel_Rarely</td>\n",
       "      <td>Research &amp; Development</td>\n",
       "      <td>4.0</td>\n",
       "      <td>3</td>\n",
       "      <td>2</td>\n",
       "      <td>Manufacturing Director</td>\n",
       "      <td>2.0</td>\n",
       "      <td>5k-10k</td>\n",
       "      <td>1</td>\n",
       "      <td>Yes</td>\n",
       "      <td>4</td>\n",
       "      <td>1</td>\n",
       "      <td>3</td>\n",
       "      <td>6</td>\n",
       "      <td>2</td>\n",
       "      <td>0</td>\n",
       "      <td>3.0</td>\n",
       "    </tr>\n",
       "    <tr>\n",
       "      <th>5</th>\n",
       "      <td>26-35</td>\n",
       "      <td>No</td>\n",
       "      <td>Travel_Rarely</td>\n",
       "      <td>Research &amp; Development</td>\n",
       "      <td>4.0</td>\n",
       "      <td>3</td>\n",
       "      <td>2</td>\n",
       "      <td>Manufacturing Director</td>\n",
       "      <td>2.0</td>\n",
       "      <td>5k-10k</td>\n",
       "      <td>1</td>\n",
       "      <td>Yes</td>\n",
       "      <td>4</td>\n",
       "      <td>1</td>\n",
       "      <td>3</td>\n",
       "      <td>6</td>\n",
       "      <td>2</td>\n",
       "      <td>0</td>\n",
       "      <td>3.0</td>\n",
       "    </tr>\n",
       "    <tr>\n",
       "      <th>6</th>\n",
       "      <td>26-35</td>\n",
       "      <td>No</td>\n",
       "      <td>Travel_Rarely</td>\n",
       "      <td>Research &amp; Development</td>\n",
       "      <td>28.0</td>\n",
       "      <td>4</td>\n",
       "      <td>1</td>\n",
       "      <td>Research Scientist</td>\n",
       "      <td>1.0</td>\n",
       "      <td>Upto 5k</td>\n",
       "      <td>1</td>\n",
       "      <td>No</td>\n",
       "      <td>3</td>\n",
       "      <td>0</td>\n",
       "      <td>1</td>\n",
       "      <td>5</td>\n",
       "      <td>4</td>\n",
       "      <td>0</td>\n",
       "      <td>4.0</td>\n",
       "    </tr>\n",
       "    <tr>\n",
       "      <th>7</th>\n",
       "      <td>26-35</td>\n",
       "      <td>No</td>\n",
       "      <td>Travel_Rarely</td>\n",
       "      <td>Research &amp; Development</td>\n",
       "      <td>28.0</td>\n",
       "      <td>4</td>\n",
       "      <td>1</td>\n",
       "      <td>Research Scientist</td>\n",
       "      <td>1.0</td>\n",
       "      <td>Upto 5k</td>\n",
       "      <td>1</td>\n",
       "      <td>No</td>\n",
       "      <td>3</td>\n",
       "      <td>0</td>\n",
       "      <td>1</td>\n",
       "      <td>5</td>\n",
       "      <td>4</td>\n",
       "      <td>0</td>\n",
       "      <td>4.0</td>\n",
       "    </tr>\n",
       "    <tr>\n",
       "      <th>8</th>\n",
       "      <td>36-45</td>\n",
       "      <td>No</td>\n",
       "      <td>Travel_Rarely</td>\n",
       "      <td>Sales</td>\n",
       "      <td>24.0</td>\n",
       "      <td>1</td>\n",
       "      <td>4</td>\n",
       "      <td>Sales Executive</td>\n",
       "      <td>4.0</td>\n",
       "      <td>10k-15k</td>\n",
       "      <td>0</td>\n",
       "      <td>No</td>\n",
       "      <td>3</td>\n",
       "      <td>1</td>\n",
       "      <td>2</td>\n",
       "      <td>20</td>\n",
       "      <td>9</td>\n",
       "      <td>9</td>\n",
       "      <td>6.0</td>\n",
       "    </tr>\n",
       "    <tr>\n",
       "      <th>9</th>\n",
       "      <td>36-45</td>\n",
       "      <td>No</td>\n",
       "      <td>Travel_Rarely</td>\n",
       "      <td>Sales</td>\n",
       "      <td>24.0</td>\n",
       "      <td>1</td>\n",
       "      <td>4</td>\n",
       "      <td>Sales Executive</td>\n",
       "      <td>4.0</td>\n",
       "      <td>10k-15k</td>\n",
       "      <td>0</td>\n",
       "      <td>No</td>\n",
       "      <td>3</td>\n",
       "      <td>1</td>\n",
       "      <td>2</td>\n",
       "      <td>20</td>\n",
       "      <td>9</td>\n",
       "      <td>9</td>\n",
       "      <td>6.0</td>\n",
       "    </tr>\n",
       "    <tr>\n",
       "      <th>10</th>\n",
       "      <td>46-55</td>\n",
       "      <td>No</td>\n",
       "      <td>Travel_Frequently</td>\n",
       "      <td>Sales</td>\n",
       "      <td>2.0</td>\n",
       "      <td>3</td>\n",
       "      <td>2</td>\n",
       "      <td>Sales Executive</td>\n",
       "      <td>2.0</td>\n",
       "      <td>5k-10k</td>\n",
       "      <td>2</td>\n",
       "      <td>No</td>\n",
       "      <td>3</td>\n",
       "      <td>0</td>\n",
       "      <td>2</td>\n",
       "      <td>9</td>\n",
       "      <td>6</td>\n",
       "      <td>0</td>\n",
       "      <td>8.0</td>\n",
       "    </tr>\n",
       "    <tr>\n",
       "      <th>11</th>\n",
       "      <td>46-55</td>\n",
       "      <td>No</td>\n",
       "      <td>Travel_Frequently</td>\n",
       "      <td>Sales</td>\n",
       "      <td>2.0</td>\n",
       "      <td>3</td>\n",
       "      <td>2</td>\n",
       "      <td>Sales Executive</td>\n",
       "      <td>2.0</td>\n",
       "      <td>5k-10k</td>\n",
       "      <td>2</td>\n",
       "      <td>No</td>\n",
       "      <td>3</td>\n",
       "      <td>0</td>\n",
       "      <td>2</td>\n",
       "      <td>9</td>\n",
       "      <td>6</td>\n",
       "      <td>0</td>\n",
       "      <td>8.0</td>\n",
       "    </tr>\n",
       "    <tr>\n",
       "      <th>12</th>\n",
       "      <td>46-55</td>\n",
       "      <td>Yes</td>\n",
       "      <td>Travel_Rarely</td>\n",
       "      <td>Sales</td>\n",
       "      <td>28.0</td>\n",
       "      <td>3</td>\n",
       "      <td>3</td>\n",
       "      <td>Sales Executive</td>\n",
       "      <td>1.0</td>\n",
       "      <td>10k-15k</td>\n",
       "      <td>4</td>\n",
       "      <td>Yes</td>\n",
       "      <td>3</td>\n",
       "      <td>1</td>\n",
       "      <td>3</td>\n",
       "      <td>3</td>\n",
       "      <td>2</td>\n",
       "      <td>2</td>\n",
       "      <td>0.0</td>\n",
       "    </tr>\n",
       "    <tr>\n",
       "      <th>13</th>\n",
       "      <td>46-55</td>\n",
       "      <td>Yes</td>\n",
       "      <td>Travel_Rarely</td>\n",
       "      <td>Sales</td>\n",
       "      <td>28.0</td>\n",
       "      <td>3</td>\n",
       "      <td>3</td>\n",
       "      <td>Sales Executive</td>\n",
       "      <td>1.0</td>\n",
       "      <td>10k-15k</td>\n",
       "      <td>4</td>\n",
       "      <td>Yes</td>\n",
       "      <td>3</td>\n",
       "      <td>1</td>\n",
       "      <td>3</td>\n",
       "      <td>3</td>\n",
       "      <td>2</td>\n",
       "      <td>2</td>\n",
       "      <td>0.0</td>\n",
       "    </tr>\n",
       "  </tbody>\n",
       "</table>\n",
       "</div>"
      ],
      "text/plain": [
       "   AgeGroup Attrition     BusinessTravel              Department  \\\n",
       "0     26-35        No         Non-Travel  Research & Development   \n",
       "1     26-35        No         Non-Travel  Research & Development   \n",
       "2     26-35        No       TravelRarely  Research & Development   \n",
       "3     26-35        No       TravelRarely  Research & Development   \n",
       "4     26-35        No      Travel_Rarely  Research & Development   \n",
       "5     26-35        No      Travel_Rarely  Research & Development   \n",
       "6     26-35        No      Travel_Rarely  Research & Development   \n",
       "7     26-35        No      Travel_Rarely  Research & Development   \n",
       "8     36-45        No      Travel_Rarely                   Sales   \n",
       "9     36-45        No      Travel_Rarely                   Sales   \n",
       "10    46-55        No  Travel_Frequently                   Sales   \n",
       "11    46-55        No  Travel_Frequently                   Sales   \n",
       "12    46-55       Yes      Travel_Rarely                   Sales   \n",
       "13    46-55       Yes      Travel_Rarely                   Sales   \n",
       "\n",
       "    DistanceFromHome  Education  JobLevel                 JobRole  \\\n",
       "0                5.0          3         2  Manufacturing Director   \n",
       "1                5.0          3         2  Manufacturing Director   \n",
       "2                8.0          3         2   Laboratory Technician   \n",
       "3                8.0          3         2   Laboratory Technician   \n",
       "4                4.0          3         2  Manufacturing Director   \n",
       "5                4.0          3         2  Manufacturing Director   \n",
       "6               28.0          4         1      Research Scientist   \n",
       "7               28.0          4         1      Research Scientist   \n",
       "8               24.0          1         4         Sales Executive   \n",
       "9               24.0          1         4         Sales Executive   \n",
       "10               2.0          3         2         Sales Executive   \n",
       "11               2.0          3         2         Sales Executive   \n",
       "12              28.0          3         3         Sales Executive   \n",
       "13              28.0          3         3         Sales Executive   \n",
       "\n",
       "    JobSatisfaction SalarySlab  NumCompaniesWorked OverTime  \\\n",
       "0               1.0     5k-10k                   0       No   \n",
       "1               1.0     5k-10k                   0       No   \n",
       "2               3.0    Upto 5k                   2       No   \n",
       "3               3.0    Upto 5k                   2       No   \n",
       "4               2.0     5k-10k                   1      Yes   \n",
       "5               2.0     5k-10k                   1      Yes   \n",
       "6               1.0    Upto 5k                   1       No   \n",
       "7               1.0    Upto 5k                   1       No   \n",
       "8               4.0    10k-15k                   0       No   \n",
       "9               4.0    10k-15k                   0       No   \n",
       "10              2.0     5k-10k                   2       No   \n",
       "11              2.0     5k-10k                   2       No   \n",
       "12              1.0    10k-15k                   4      Yes   \n",
       "13              1.0    10k-15k                   4      Yes   \n",
       "\n",
       "    PerformanceRating  StockOptionLevel  WorkLifeBalance  YearsAtCompany  \\\n",
       "0                   3                 0                3               9   \n",
       "1                   3                 0                3               9   \n",
       "2                   3                 0                4               4   \n",
       "3                   3                 0                4               4   \n",
       "4                   4                 1                3               6   \n",
       "5                   4                 1                3               6   \n",
       "6                   3                 0                1               5   \n",
       "7                   3                 0                1               5   \n",
       "8                   3                 1                2              20   \n",
       "9                   3                 1                2              20   \n",
       "10                  3                 0                2               9   \n",
       "11                  3                 0                2               9   \n",
       "12                  3                 1                3               3   \n",
       "13                  3                 1                3               3   \n",
       "\n",
       "    YearsInCurrentRole  YearsSinceLastPromotion  YearsWithCurrManager  \n",
       "0                    4                        1                   7.0  \n",
       "1                    4                        1                   7.0  \n",
       "2                    3                        1                   2.0  \n",
       "3                    3                        1                   2.0  \n",
       "4                    2                        0                   3.0  \n",
       "5                    2                        0                   3.0  \n",
       "6                    4                        0                   4.0  \n",
       "7                    4                        0                   4.0  \n",
       "8                    9                        9                   6.0  \n",
       "9                    9                        9                   6.0  \n",
       "10                   6                        0                   8.0  \n",
       "11                   6                        0                   8.0  \n",
       "12                   2                        2                   0.0  \n",
       "13                   2                        2                   0.0  "
      ]
     },
     "execution_count": 8,
     "metadata": {},
     "output_type": "execute_result"
    }
   ],
   "source": [
    "# List every column that makes these rows “duplicated”\n",
    "\n",
    "dupes = data1[data1.duplicated(keep=False)]\n",
    "dupes.sort_values(list(data1.columns)).reset_index(drop=True)"
   ]
  },
  {
   "cell_type": "code",
   "execution_count": 9,
   "id": "971bd16d",
   "metadata": {},
   "outputs": [
    {
     "name": "stdout",
     "output_type": "stream",
     "text": [
      "False\n",
      "0\n"
     ]
    }
   ],
   "source": [
    "# Drop duplications\n",
    "data1 = data1.drop_duplicates()\n",
    "print(data1.duplicated().any())\n",
    "print(data1.duplicated().sum())"
   ]
  },
  {
   "cell_type": "markdown",
   "id": "4042a1d0",
   "metadata": {},
   "source": [
    "### Step 4: Filling Null values"
   ]
  },
  {
   "cell_type": "code",
   "execution_count": 10,
   "id": "492d7a35",
   "metadata": {},
   "outputs": [
    {
     "data": {
      "text/html": [
       "<div>\n",
       "<style scoped>\n",
       "    .dataframe tbody tr th:only-of-type {\n",
       "        vertical-align: middle;\n",
       "    }\n",
       "\n",
       "    .dataframe tbody tr th {\n",
       "        vertical-align: top;\n",
       "    }\n",
       "\n",
       "    .dataframe thead th {\n",
       "        text-align: right;\n",
       "    }\n",
       "</style>\n",
       "<table border=\"1\" class=\"dataframe\">\n",
       "  <thead>\n",
       "    <tr style=\"text-align: right;\">\n",
       "      <th></th>\n",
       "      <th>AgeGroup</th>\n",
       "      <th>Attrition</th>\n",
       "      <th>BusinessTravel</th>\n",
       "      <th>Department</th>\n",
       "      <th>DistanceFromHome</th>\n",
       "      <th>Education</th>\n",
       "      <th>JobLevel</th>\n",
       "      <th>JobRole</th>\n",
       "      <th>JobSatisfaction</th>\n",
       "      <th>SalarySlab</th>\n",
       "      <th>NumCompaniesWorked</th>\n",
       "      <th>OverTime</th>\n",
       "      <th>PerformanceRating</th>\n",
       "      <th>StockOptionLevel</th>\n",
       "      <th>WorkLifeBalance</th>\n",
       "      <th>YearsAtCompany</th>\n",
       "      <th>YearsInCurrentRole</th>\n",
       "      <th>YearsSinceLastPromotion</th>\n",
       "      <th>YearsWithCurrManager</th>\n",
       "      <th>null_count</th>\n",
       "    </tr>\n",
       "  </thead>\n",
       "  <tbody>\n",
       "    <tr>\n",
       "      <th>13</th>\n",
       "      <td>18-25</td>\n",
       "      <td>Yes</td>\n",
       "      <td>Travel_Rarely</td>\n",
       "      <td>Sales</td>\n",
       "      <td>NaN</td>\n",
       "      <td>3</td>\n",
       "      <td>1</td>\n",
       "      <td>Sales Representative</td>\n",
       "      <td>2.0</td>\n",
       "      <td>Upto 5k</td>\n",
       "      <td>1</td>\n",
       "      <td>Yes</td>\n",
       "      <td>3</td>\n",
       "      <td>0</td>\n",
       "      <td>4</td>\n",
       "      <td>1</td>\n",
       "      <td>0</td>\n",
       "      <td>0</td>\n",
       "      <td>0.0</td>\n",
       "      <td>1</td>\n",
       "    </tr>\n",
       "    <tr>\n",
       "      <th>19</th>\n",
       "      <td>18-25</td>\n",
       "      <td>Yes</td>\n",
       "      <td>Travel_Rarely</td>\n",
       "      <td>Research &amp; Development</td>\n",
       "      <td>10.0</td>\n",
       "      <td>1</td>\n",
       "      <td>1</td>\n",
       "      <td>Research Scientist</td>\n",
       "      <td>NaN</td>\n",
       "      <td>Upto 5k</td>\n",
       "      <td>1</td>\n",
       "      <td>Yes</td>\n",
       "      <td>3</td>\n",
       "      <td>0</td>\n",
       "      <td>3</td>\n",
       "      <td>1</td>\n",
       "      <td>0</td>\n",
       "      <td>1</td>\n",
       "      <td>1.0</td>\n",
       "      <td>1</td>\n",
       "    </tr>\n",
       "    <tr>\n",
       "      <th>28</th>\n",
       "      <td>18-25</td>\n",
       "      <td>No</td>\n",
       "      <td>Travel_Rarely</td>\n",
       "      <td>Research &amp; Development</td>\n",
       "      <td>15.0</td>\n",
       "      <td>2</td>\n",
       "      <td>1</td>\n",
       "      <td>Research Scientist</td>\n",
       "      <td>4.0</td>\n",
       "      <td>Upto 5k</td>\n",
       "      <td>1</td>\n",
       "      <td>No</td>\n",
       "      <td>3</td>\n",
       "      <td>0</td>\n",
       "      <td>3</td>\n",
       "      <td>0</td>\n",
       "      <td>0</td>\n",
       "      <td>0</td>\n",
       "      <td>NaN</td>\n",
       "      <td>1</td>\n",
       "    </tr>\n",
       "    <tr>\n",
       "      <th>31</th>\n",
       "      <td>18-25</td>\n",
       "      <td>No</td>\n",
       "      <td>Non-Travel</td>\n",
       "      <td>Sales</td>\n",
       "      <td>9.0</td>\n",
       "      <td>2</td>\n",
       "      <td>1</td>\n",
       "      <td>Sales Representative</td>\n",
       "      <td>4.0</td>\n",
       "      <td>Upto 5k</td>\n",
       "      <td>1</td>\n",
       "      <td>No</td>\n",
       "      <td>4</td>\n",
       "      <td>0</td>\n",
       "      <td>2</td>\n",
       "      <td>3</td>\n",
       "      <td>2</td>\n",
       "      <td>2</td>\n",
       "      <td>NaN</td>\n",
       "      <td>1</td>\n",
       "    </tr>\n",
       "    <tr>\n",
       "      <th>37</th>\n",
       "      <td>18-25</td>\n",
       "      <td>Yes</td>\n",
       "      <td>Travel_Frequently</td>\n",
       "      <td>Research &amp; Development</td>\n",
       "      <td>10.0</td>\n",
       "      <td>2</td>\n",
       "      <td>1</td>\n",
       "      <td>Laboratory Technician</td>\n",
       "      <td>NaN</td>\n",
       "      <td>Upto 5k</td>\n",
       "      <td>1</td>\n",
       "      <td>No</td>\n",
       "      <td>4</td>\n",
       "      <td>0</td>\n",
       "      <td>1</td>\n",
       "      <td>2</td>\n",
       "      <td>2</td>\n",
       "      <td>2</td>\n",
       "      <td>2.0</td>\n",
       "      <td>1</td>\n",
       "    </tr>\n",
       "    <tr>\n",
       "      <th>...</th>\n",
       "      <td>...</td>\n",
       "      <td>...</td>\n",
       "      <td>...</td>\n",
       "      <td>...</td>\n",
       "      <td>...</td>\n",
       "      <td>...</td>\n",
       "      <td>...</td>\n",
       "      <td>...</td>\n",
       "      <td>...</td>\n",
       "      <td>...</td>\n",
       "      <td>...</td>\n",
       "      <td>...</td>\n",
       "      <td>...</td>\n",
       "      <td>...</td>\n",
       "      <td>...</td>\n",
       "      <td>...</td>\n",
       "      <td>...</td>\n",
       "      <td>...</td>\n",
       "      <td>...</td>\n",
       "      <td>...</td>\n",
       "    </tr>\n",
       "    <tr>\n",
       "      <th>1360</th>\n",
       "      <td>46-55</td>\n",
       "      <td>No</td>\n",
       "      <td>Travel_Rarely</td>\n",
       "      <td>Research &amp; Development</td>\n",
       "      <td>3.0</td>\n",
       "      <td>3</td>\n",
       "      <td>3</td>\n",
       "      <td>Manufacturing Director</td>\n",
       "      <td>3.0</td>\n",
       "      <td>5k-10k</td>\n",
       "      <td>2</td>\n",
       "      <td>Yes</td>\n",
       "      <td>3</td>\n",
       "      <td>0</td>\n",
       "      <td>3</td>\n",
       "      <td>5</td>\n",
       "      <td>4</td>\n",
       "      <td>0</td>\n",
       "      <td>NaN</td>\n",
       "      <td>1</td>\n",
       "    </tr>\n",
       "    <tr>\n",
       "      <th>1375</th>\n",
       "      <td>46-55</td>\n",
       "      <td>No</td>\n",
       "      <td>Travel_Rarely</td>\n",
       "      <td>Research &amp; Development</td>\n",
       "      <td>5.0</td>\n",
       "      <td>3</td>\n",
       "      <td>5</td>\n",
       "      <td>Manager</td>\n",
       "      <td>3.0</td>\n",
       "      <td>15k+</td>\n",
       "      <td>4</td>\n",
       "      <td>No</td>\n",
       "      <td>3</td>\n",
       "      <td>1</td>\n",
       "      <td>2</td>\n",
       "      <td>14</td>\n",
       "      <td>13</td>\n",
       "      <td>4</td>\n",
       "      <td>NaN</td>\n",
       "      <td>1</td>\n",
       "    </tr>\n",
       "    <tr>\n",
       "      <th>1448</th>\n",
       "      <td>55</td>\n",
       "      <td>No</td>\n",
       "      <td>Travel_Rarely</td>\n",
       "      <td>Research &amp; Development</td>\n",
       "      <td>1.0</td>\n",
       "      <td>4</td>\n",
       "      <td>2</td>\n",
       "      <td>Healthcare Representative</td>\n",
       "      <td>3.0</td>\n",
       "      <td>5k-10k</td>\n",
       "      <td>2</td>\n",
       "      <td>No</td>\n",
       "      <td>3</td>\n",
       "      <td>0</td>\n",
       "      <td>3</td>\n",
       "      <td>3</td>\n",
       "      <td>2</td>\n",
       "      <td>1</td>\n",
       "      <td>NaN</td>\n",
       "      <td>1</td>\n",
       "    </tr>\n",
       "    <tr>\n",
       "      <th>1465</th>\n",
       "      <td>55</td>\n",
       "      <td>No</td>\n",
       "      <td>Travel_Rarely</td>\n",
       "      <td>Research &amp; Development</td>\n",
       "      <td>3.0</td>\n",
       "      <td>3</td>\n",
       "      <td>1</td>\n",
       "      <td>Laboratory Technician</td>\n",
       "      <td>1.0</td>\n",
       "      <td>Upto 5k</td>\n",
       "      <td>4</td>\n",
       "      <td>Yes</td>\n",
       "      <td>4</td>\n",
       "      <td>3</td>\n",
       "      <td>2</td>\n",
       "      <td>1</td>\n",
       "      <td>0</td>\n",
       "      <td>0</td>\n",
       "      <td>NaN</td>\n",
       "      <td>1</td>\n",
       "    </tr>\n",
       "    <tr>\n",
       "      <th>1467</th>\n",
       "      <td>55</td>\n",
       "      <td>No</td>\n",
       "      <td>Travel_Frequently</td>\n",
       "      <td>Sales</td>\n",
       "      <td>1.0</td>\n",
       "      <td>1</td>\n",
       "      <td>2</td>\n",
       "      <td>Sales Executive</td>\n",
       "      <td>3.0</td>\n",
       "      <td>5k-10k</td>\n",
       "      <td>7</td>\n",
       "      <td>No</td>\n",
       "      <td>3</td>\n",
       "      <td>0</td>\n",
       "      <td>2</td>\n",
       "      <td>4</td>\n",
       "      <td>3</td>\n",
       "      <td>1</td>\n",
       "      <td>NaN</td>\n",
       "      <td>1</td>\n",
       "    </tr>\n",
       "  </tbody>\n",
       "</table>\n",
       "<p>61 rows × 20 columns</p>\n",
       "</div>"
      ],
      "text/plain": [
       "     AgeGroup Attrition     BusinessTravel              Department  \\\n",
       "13      18-25       Yes      Travel_Rarely                   Sales   \n",
       "19      18-25       Yes      Travel_Rarely  Research & Development   \n",
       "28      18-25        No      Travel_Rarely  Research & Development   \n",
       "31      18-25        No         Non-Travel                   Sales   \n",
       "37      18-25       Yes  Travel_Frequently  Research & Development   \n",
       "...       ...       ...                ...                     ...   \n",
       "1360    46-55        No      Travel_Rarely  Research & Development   \n",
       "1375    46-55        No      Travel_Rarely  Research & Development   \n",
       "1448       55        No      Travel_Rarely  Research & Development   \n",
       "1465       55        No      Travel_Rarely  Research & Development   \n",
       "1467       55        No  Travel_Frequently                   Sales   \n",
       "\n",
       "      DistanceFromHome  Education  JobLevel                    JobRole  \\\n",
       "13                 NaN          3         1       Sales Representative   \n",
       "19                10.0          1         1         Research Scientist   \n",
       "28                15.0          2         1         Research Scientist   \n",
       "31                 9.0          2         1       Sales Representative   \n",
       "37                10.0          2         1      Laboratory Technician   \n",
       "...                ...        ...       ...                        ...   \n",
       "1360               3.0          3         3     Manufacturing Director   \n",
       "1375               5.0          3         5                    Manager   \n",
       "1448               1.0          4         2  Healthcare Representative   \n",
       "1465               3.0          3         1      Laboratory Technician   \n",
       "1467               1.0          1         2            Sales Executive   \n",
       "\n",
       "      JobSatisfaction SalarySlab  NumCompaniesWorked OverTime  \\\n",
       "13                2.0    Upto 5k                   1      Yes   \n",
       "19                NaN    Upto 5k                   1      Yes   \n",
       "28                4.0    Upto 5k                   1       No   \n",
       "31                4.0    Upto 5k                   1       No   \n",
       "37                NaN    Upto 5k                   1       No   \n",
       "...               ...        ...                 ...      ...   \n",
       "1360              3.0     5k-10k                   2      Yes   \n",
       "1375              3.0       15k+                   4       No   \n",
       "1448              3.0     5k-10k                   2       No   \n",
       "1465              1.0    Upto 5k                   4      Yes   \n",
       "1467              3.0     5k-10k                   7       No   \n",
       "\n",
       "      PerformanceRating  StockOptionLevel  WorkLifeBalance  YearsAtCompany  \\\n",
       "13                    3                 0                4               1   \n",
       "19                    3                 0                3               1   \n",
       "28                    3                 0                3               0   \n",
       "31                    4                 0                2               3   \n",
       "37                    4                 0                1               2   \n",
       "...                 ...               ...              ...             ...   \n",
       "1360                  3                 0                3               5   \n",
       "1375                  3                 1                2              14   \n",
       "1448                  3                 0                3               3   \n",
       "1465                  4                 3                2               1   \n",
       "1467                  3                 0                2               4   \n",
       "\n",
       "      YearsInCurrentRole  YearsSinceLastPromotion  YearsWithCurrManager  \\\n",
       "13                     0                        0                   0.0   \n",
       "19                     0                        1                   1.0   \n",
       "28                     0                        0                   NaN   \n",
       "31                     2                        2                   NaN   \n",
       "37                     2                        2                   2.0   \n",
       "...                  ...                      ...                   ...   \n",
       "1360                   4                        0                   NaN   \n",
       "1375                  13                        4                   NaN   \n",
       "1448                   2                        1                   NaN   \n",
       "1465                   0                        0                   NaN   \n",
       "1467                   3                        1                   NaN   \n",
       "\n",
       "      null_count  \n",
       "13             1  \n",
       "19             1  \n",
       "28             1  \n",
       "31             1  \n",
       "37             1  \n",
       "...          ...  \n",
       "1360           1  \n",
       "1375           1  \n",
       "1448           1  \n",
       "1465           1  \n",
       "1467           1  \n",
       "\n",
       "[61 rows x 20 columns]"
      ]
     },
     "execution_count": 10,
     "metadata": {},
     "output_type": "execute_result"
    }
   ],
   "source": [
    "# calculated the number of missing entries per row to assess data quality.\n",
    "null_rows = data1[data1.isna().any(axis=1)].copy()\n",
    "null_rows['null_count'] = null_rows.isna().sum(axis=1)\n",
    "null_rows"
   ]
  },
  {
   "cell_type": "markdown",
   "id": "36d59846",
   "metadata": {},
   "source": [
    "Out of 1,480 rows, 61 contain null values, with most having only a single missing entry."
   ]
  },
  {
   "cell_type": "code",
   "execution_count": 11,
   "id": "1b01a470",
   "metadata": {},
   "outputs": [
    {
     "data": {
      "text/plain": [
       "0"
      ]
     },
     "execution_count": 11,
     "metadata": {},
     "output_type": "execute_result"
    }
   ],
   "source": [
    "null_rows.isna().sum(axis=1).gt(1).sum()"
   ]
  },
  {
   "cell_type": "markdown",
   "id": "f9084aa9",
   "metadata": {},
   "source": [
    "Since fewer than 5% of rows contain missing values, dropping them would typically be acceptable. However, assuming stakeholders prefer to retain all data, I’ve opted to impute the missing values based on informed judgment."
   ]
  },
  {
   "cell_type": "code",
   "execution_count": 12,
   "id": "c82c722c",
   "metadata": {},
   "outputs": [
    {
     "data": {
      "text/plain": [
       "AgeGroup                    0\n",
       "Attrition                   0\n",
       "BusinessTravel              0\n",
       "Department                  0\n",
       "DistanceFromHome            2\n",
       "Education                   0\n",
       "JobLevel                    0\n",
       "JobRole                     0\n",
       "JobSatisfaction             2\n",
       "SalarySlab                  0\n",
       "NumCompaniesWorked          0\n",
       "OverTime                    0\n",
       "PerformanceRating           0\n",
       "StockOptionLevel            0\n",
       "WorkLifeBalance             0\n",
       "YearsAtCompany              0\n",
       "YearsInCurrentRole          0\n",
       "YearsSinceLastPromotion     0\n",
       "YearsWithCurrManager       57\n",
       "null_count                  0\n",
       "dtype: int64"
      ]
     },
     "execution_count": 12,
     "metadata": {},
     "output_type": "execute_result"
    }
   ],
   "source": [
    "null_rows.isna().sum()"
   ]
  },
  {
   "cell_type": "markdown",
   "id": "f90caab7",
   "metadata": {},
   "source": [
    "Columns with missing value:\n",
    "DistanceFromHome(float64), Gender(object), HourlyRate(float64), JobSatisfaction(float64), YearswithCurrManager(float64).\n",
    "Since ‘Gender’ is categorical and ‘JobSatisfaction’ is ordinal, I filled missing values using the mode. For numerical columns, I assessed skewness to choose between mean, median, or mode for imputation."
   ]
  },
  {
   "cell_type": "code",
   "execution_count": 13,
   "id": "f73e7fbd",
   "metadata": {},
   "outputs": [
    {
     "data": {
      "text/plain": [
       "<AxesSubplot:>"
      ]
     },
     "execution_count": 13,
     "metadata": {},
     "output_type": "execute_result"
    },
    {
     "data": {
      "image/png": "[encoded data removed]",
      "text/plain": [
       "<Figure size 432x288 with 1 Axes>"
      ]
     },
     "metadata": {
      "needs_background": "light"
     },
     "output_type": "display_data"
    }
   ],
   "source": [
    "data1['DistanceFromHome'].hist() # right-skewed"
   ]
  },
  {
   "cell_type": "code",
   "execution_count": 14,
   "id": "9b6aad72",
   "metadata": {},
   "outputs": [
    {
     "data": {
      "text/plain": [
       "<AxesSubplot:>"
      ]
     },
     "execution_count": 14,
     "metadata": {},
     "output_type": "execute_result"
    },
    {
     "data": {
      "image/png": "[encoded data removed]",
      "text/plain": [
       "<Figure size 432x288 with 1 Axes>"
      ]
     },
     "metadata": {
      "needs_background": "light"
     },
     "output_type": "display_data"
    }
   ],
   "source": [
    "data1['YearsWithCurrManager'].hist() #right-skewed"
   ]
  },
  {
   "cell_type": "markdown",
   "id": "55adc706",
   "metadata": {},
   "source": [
    "I'm going to fill with median for column 'DistanceFromHome' and 'YearsWithCurrManager' since they are right-skewed. If column is not skewed, I fill with mean."
   ]
  },
  {
   "cell_type": "code",
   "execution_count": 15,
   "id": "92495b31",
   "metadata": {},
   "outputs": [],
   "source": [
    "# Categorical & ordinal\n",
    "data1['JobSatisfaction'].fillna(data1['JobSatisfaction'].mode()[0], inplace=True)\n",
    "\n",
    "# Numeric\n",
    "data1['DistanceFromHome'].fillna(data1['DistanceFromHome'].median(), inplace=True)\n",
    "data1['YearsWithCurrManager'].fillna(data1['YearsWithCurrManager'].median(), inplace=True)"
   ]
  },
  {
   "cell_type": "code",
   "execution_count": 16,
   "id": "0433d184",
   "metadata": {},
   "outputs": [
    {
     "data": {
      "text/plain": [
       "AgeGroup                   0\n",
       "Attrition                  0\n",
       "BusinessTravel             0\n",
       "Department                 0\n",
       "DistanceFromHome           0\n",
       "Education                  0\n",
       "JobLevel                   0\n",
       "JobRole                    0\n",
       "JobSatisfaction            0\n",
       "SalarySlab                 0\n",
       "NumCompaniesWorked         0\n",
       "OverTime                   0\n",
       "PerformanceRating          0\n",
       "StockOptionLevel           0\n",
       "WorkLifeBalance            0\n",
       "YearsAtCompany             0\n",
       "YearsInCurrentRole         0\n",
       "YearsSinceLastPromotion    0\n",
       "YearsWithCurrManager       0\n",
       "dtype: int64"
      ]
     },
     "execution_count": 16,
     "metadata": {},
     "output_type": "execute_result"
    }
   ],
   "source": [
    "# Check if there's still null values\n",
    "data1.isna().sum()"
   ]
  },
  {
   "cell_type": "markdown",
   "id": "d8416491",
   "metadata": {},
   "source": [
    "### Step 5: Checking Inconsistent Formatting"
   ]
  },
  {
   "cell_type": "code",
   "execution_count": 17,
   "id": "b3a88f02",
   "metadata": {},
   "outputs": [],
   "source": [
    "categorical_cols = data1.select_dtypes(include='object').columns"
   ]
  },
  {
   "cell_type": "code",
   "execution_count": 18,
   "id": "5437fbce",
   "metadata": {},
   "outputs": [
    {
     "name": "stdout",
     "output_type": "stream",
     "text": [
      "\n",
      "Column: AgeGroup\n",
      "['18-25' '26-35' '36-45' '46-55' '55']\n",
      "\n",
      "Column: Attrition\n",
      "['Yes' 'No']\n",
      "\n",
      "Column: BusinessTravel\n",
      "['Travel_Rarely' 'Travel_Frequently' 'Non-Travel' 'TravelRarely']\n",
      "\n",
      "Column: Department\n",
      "['Research & Development' 'Sales' 'Human Resources']\n",
      "\n",
      "Column: JobRole\n",
      "['Laboratory Technician' 'Sales Representative' 'Research Scientist'\n",
      " 'Human Resources' 'Manufacturing Director' 'Sales Executive'\n",
      " 'Healthcare Representative' 'Research Director' 'Manager']\n",
      "\n",
      "Column: SalarySlab\n",
      "['Upto 5k' '5k-10k' '10k-15k' '15k+']\n",
      "\n",
      "Column: OverTime\n",
      "['No' 'Yes']\n"
     ]
    }
   ],
   "source": [
    "for col in categorical_cols:\n",
    "    print(f\"\\nColumn: {col}\")\n",
    "    print(data1[col].unique())"
   ]
  },
  {
   "cell_type": "markdown",
   "id": "57d2cf19",
   "metadata": {},
   "source": [
    "All values are standardized and consistently formatted."
   ]
  },
  {
   "cell_type": "markdown",
   "id": "52b68afd",
   "metadata": {},
   "source": [
    "## 2. Data Processing"
   ]
  },
  {
   "cell_type": "markdown",
   "id": "47c60a5c",
   "metadata": {},
   "source": [
    "### Step 1: Categorical Variables - Binary Encoding\n",
    "For column **\"Attrition\"**, I convert values \"Yes/No\" into 0/1, and rename it to \"Churn\".  \n",
    "For column **\"Gender\"**, I convert values \"Male/Female\" into 0/1.  \n",
    "For column **\"OverTime**, I convert values \"No/Yes\" into 0/1."
   ]
  },
  {
   "cell_type": "code",
   "execution_count": 19,
   "id": "87b7521e",
   "metadata": {},
   "outputs": [],
   "source": [
    "# Convert Yes/No to 1/0\n",
    "data1['Attrition'] = data1['Attrition'].map({'Yes': 1, 'No': 0})\n",
    "data1['OverTime'] = data1['OverTime'].map({'Yes': 1, 'No': 0})\n",
    "\n",
    "# Rename column Attrition\n",
    "data1.rename(columns={'Attrition': 'Churn'}, inplace=True)"
   ]
  },
  {
   "cell_type": "code",
   "execution_count": 20,
   "id": "4f2eddfc",
   "metadata": {},
   "outputs": [
    {
     "name": "stdout",
     "output_type": "stream",
     "text": [
      "[1 0]\n",
      "[0 1]\n"
     ]
    }
   ],
   "source": [
    "print(data1['Churn'].unique())\n",
    "print(data1['OverTime'].unique())"
   ]
  },
  {
   "cell_type": "markdown",
   "id": "b84cdf96",
   "metadata": {},
   "source": [
    "### Step 2: Ordinal Encoding \n",
    "For column **\"AgeGroup\"**, I use a rank from 0 to 4 for '18-25', '26-35', '36-45', '46-55', '55'.  \n",
    "For column **\"SalarySlab\"**, I use a rank from 0 to 3 for 'Upto 5k' '5k-10k' '10k-15k' '15k+'."
   ]
  },
  {
   "cell_type": "code",
   "execution_count": 21,
   "id": "7cc8a9ae",
   "metadata": {},
   "outputs": [],
   "source": [
    "#1. Change the type from object to category\n",
    "data1.AgeGroup = data1.AgeGroup.astype(\"category\")\n",
    "data1.SalarySlab = data1.SalarySlab.astype(\"category\")\n",
    "\n",
    "#2. Give the values an order\n",
    "data1.AgeGroup = data1.AgeGroup.cat.reorder_categories(['18-25', '26-35', '36-45', '46-55', '55'])\n",
    "data1.SalarySlab = data1.SalarySlab.cat.reorder_categories(['Upto 5k','5k-10k','10k-15k','15k+'])\n",
    "\n",
    "#3. Encode categories with integer values\n",
    "data1.AgeGroup = data1.AgeGroup.cat.codes\n",
    "data1.SalarySlab = data1.SalarySlab.cat.codes"
   ]
  },
  {
   "cell_type": "code",
   "execution_count": 22,
   "id": "39d297a4",
   "metadata": {},
   "outputs": [
    {
     "name": "stdout",
     "output_type": "stream",
     "text": [
      "[0 1 2 3 4]\n",
      "[0 1 2 3 4]\n"
     ]
    }
   ],
   "source": [
    "print(data1['AgeGroup'].unique())\n",
    "print(data1['AgeGroup'].unique())"
   ]
  },
  {
   "cell_type": "markdown",
   "id": "4f467b40",
   "metadata": {},
   "source": [
    "### Step 3: Nominal Categories - One-hot Encoding (Dummy Variables)\n",
    "Generate dummy values for nominal categories, and drop one level per column to avoid the dummy variable trap."
   ]
  },
  {
   "cell_type": "code",
   "execution_count": 23,
   "id": "075da93b",
   "metadata": {},
   "outputs": [],
   "source": [
    "data1 = pd.get_dummies(data1, columns=[\n",
    "    'BusinessTravel', \n",
    "    'Department', \n",
    "    'JobRole'\n",
    "], drop_first=True)"
   ]
  },
  {
   "cell_type": "code",
   "execution_count": 24,
   "id": "2a9315c4",
   "metadata": {},
   "outputs": [
    {
     "name": "stdout",
     "output_type": "stream",
     "text": [
      "0\n",
      "bool       13\n",
      "int64      11\n",
      "float64     3\n",
      "int8        2\n",
      "Name: count, dtype: int64\n",
      "0\n"
     ]
    }
   ],
   "source": [
    "print(data1.isnull().sum().sum())\n",
    "print(data1.dtypes.value_counts())\n",
    "print(data1.duplicated().sum())"
   ]
  },
  {
   "cell_type": "markdown",
   "id": "9eb83d35",
   "metadata": {},
   "source": [
    "## What's the overall churn rate?"
   ]
  },
  {
   "cell_type": "code",
   "execution_count": 25,
   "id": "77ad6d0e",
   "metadata": {},
   "outputs": [
    {
     "name": "stdout",
     "output_type": "stream",
     "text": [
      "1473\n"
     ]
    },
    {
     "data": {
      "text/plain": [
       "Churn\n",
       "0    0.839104\n",
       "1    0.160896\n",
       "Name: count, dtype: float64"
      ]
     },
     "execution_count": 25,
     "metadata": {},
     "output_type": "execute_result"
    }
   ],
   "source": [
    "#Turnover rate = number of employee left/ total number of employee\n",
    "\n",
    "#Total number of employee\n",
    "total_e = len(data1)\n",
    "print(total_e)\n",
    "\n",
    "#number of employee left: column \"churn\" = 1\n",
    "#count the number of 1s and 0s under column \"churn\"\n",
    "churn_c = data1.Churn.value_counts()\n",
    "\n",
    "#Calculate churn\n",
    "churn_c/total_e"
   ]
  },
  {
   "cell_type": "markdown",
   "id": "d20f60e1",
   "metadata": {},
   "source": [
    "As of June 2024, out of 1473 employees, 16.1% of employees have left the company, while 83.9% remained employed."
   ]
  },
  {
   "cell_type": "markdown",
   "id": "1ec8dca6",
   "metadata": {},
   "source": [
    "## What are the key contributing factors of voluntary turnover in this workforce?"
   ]
  },
  {
   "cell_type": "code",
   "execution_count": 26,
   "id": "b80fcf95",
   "metadata": {},
   "outputs": [],
   "source": [
    "import matplotlib.pyplot as plt\n",
    "import seaborn as sns"
   ]
  },
  {
   "cell_type": "code",
   "execution_count": 27,
   "id": "b8a17125",
   "metadata": {},
   "outputs": [
    {
     "name": "stdout",
     "output_type": "stream",
     "text": [
      "OverTime                            0.246532\n",
      "JobLevel                           -0.168926\n",
      "YearsInCurrentRole                 -0.160302\n",
      "YearsWithCurrManager               -0.157813\n",
      "JobRole_Sales Representative        0.155247\n",
      "SalarySlab                         -0.151820\n",
      "AgeGroup                           -0.148801\n",
      "StockOptionLevel                   -0.136939\n",
      "YearsAtCompany                     -0.134106\n",
      "BusinessTravel_Travel_Frequently    0.114604\n",
      "JobSatisfaction                    -0.100378\n",
      "Name: Churn, dtype: float64\n"
     ]
    }
   ],
   "source": [
    "#Generate correlation matrix\n",
    "corr_matrix = data1.corr()\n",
    "\n",
    "# Get correlation with target 'Churn' and sort by absolute value\n",
    "churn_corr = corr_matrix[\"Churn\"].drop(\"Churn\").sort_values(key=abs, ascending=False)\n",
    "\n",
    "# Display only strong correlations (e.g., above 0.1 or below -0.1)\n",
    "strong_corr = churn_corr[abs(churn_corr) > 0.1]\n",
    "print(strong_corr)"
   ]
  },
  {
   "cell_type": "code",
   "execution_count": 28,
   "id": "31f3cc3c",
   "metadata": {},
   "outputs": [
    {
     "data": {
      "image/png": "[encoded data removed]",
      "text/plain": [
       "<Figure size 576x360 with 1 Axes>"
      ]
     },
     "metadata": {
      "needs_background": "light"
     },
     "output_type": "display_data"
    }
   ],
   "source": [
    "# Plot top features correlated with Churn\n",
    "plt.figure(figsize=(8, 5))\n",
    "sns.barplot(x=strong_corr.values, y=strong_corr.index, palette=\"coolwarm\")\n",
    "plt.title(\"Top Features Correlated with Churn\")\n",
    "plt.xlabel(\"Correlation with Churn\")\n",
    "plt.tight_layout()\n",
    "plt.show()"
   ]
  },
  {
   "cell_type": "markdown",
   "id": "54bf9b30",
   "metadata": {},
   "source": [
    "According to the correlation plot, I can see that, the top 5 strongest contributing factors to churn is  \n",
    "- OverTime: 0.25 (longer OT, more likely to churn)\n",
    "- JobLevel: -0.17 (the higher the job level, the less likely to churn)\n",
    "- YearsInCurrentRole: -0.16 (the longer experience in current role, the less likely to churn)\n",
    "- YearsWithCurrentManager: -0.16 (the longer experience with current manager, the less likely to churn)\n",
    "- SalarySlab: -0.15 (the lower the salary, the more likely to churn)"
   ]
  },
  {
   "cell_type": "markdown",
   "id": "f8ad7839",
   "metadata": {},
   "source": [
    "## Which departments, job roles, or age group have the highest churn rates, and why?"
   ]
  },
  {
   "cell_type": "code",
   "execution_count": 29,
   "id": "f7315b57",
   "metadata": {},
   "outputs": [
    {
     "data": {
      "text/plain": [
       "Index(['EmpID', 'Age', 'AgeGroup', 'Attrition', 'BusinessTravel', 'DailyRate',\n",
       "       'Department', 'DistanceFromHome', 'Education', 'EducationField',\n",
       "       'EmployeeCount', 'EmployeeNumber', 'EnvironmentSatisfaction', 'Gender',\n",
       "       'HourlyRate', 'JobInvolvement', 'JobLevel', 'JobRole',\n",
       "       'JobSatisfaction', 'MaritalStatus', 'MonthlyIncome', 'SalarySlab',\n",
       "       'MonthlyRate', 'NumCompaniesWorked', 'Over18', 'OverTime',\n",
       "       'PercentSalaryHike', 'PerformanceRating', 'RelationshipSatisfaction',\n",
       "       'StandardHours', 'StockOptionLevel', 'TotalWorkingYears',\n",
       "       'TrainingTimesLastYear', 'WorkLifeBalance', 'YearsAtCompany',\n",
       "       'YearsInCurrentRole', 'YearsSinceLastPromotion',\n",
       "       'YearsWithCurrManager'],\n",
       "      dtype='object')"
      ]
     },
     "execution_count": 29,
     "metadata": {},
     "output_type": "execute_result"
    }
   ],
   "source": [
    "# Create an In-Memory SQLite Database and Load the Table\n",
    "data2 = pd.read_csv(\"/Users/leanhe/Desktop/Github/Employee_Churn_Analytics/Employee_info.csv\")\n",
    "data2.columns"
   ]
  },
  {
   "cell_type": "code",
   "execution_count": 30,
   "id": "2b1ded0e",
   "metadata": {
    "scrolled": true
   },
   "outputs": [
    {
     "data": {
      "text/plain": [
       "1473"
      ]
     },
     "execution_count": 30,
     "metadata": {},
     "output_type": "execute_result"
    }
   ],
   "source": [
    "# Fill Null Values\n",
    "data2['Gender'].fillna(data2['Gender'].mode()[0], inplace=True)\n",
    "data2['JobSatisfaction'].fillna(data2['JobSatisfaction'].mode()[0], inplace=True)\n",
    "data2['DistanceFromHome'].fillna(data2['DistanceFromHome'].median(), inplace=True)\n",
    "data2['HourlyRate'].fillna(data2['HourlyRate'].mean(), inplace=True)\n",
    "data2['YearsWithCurrManager'].fillna(data2['YearsWithCurrManager'].median(), inplace=True)\n",
    "\n",
    "# Remove Duplicates\n",
    "data2 = data2.drop_duplicates()\n",
    "\n",
    "# Convert Yes/No to 1/0\n",
    "data2.loc[:, 'Attrition'] = data2['Attrition'].map({'Yes': 1, 'No': 0})\n",
    "data2.loc[:, 'Gender'] = data2['Gender'].map({'Female': 1, 'Male': 0})\n",
    "data2.loc[:, 'OverTime'] = data2['OverTime'].map({'Yes': 1, 'No': 0})\n",
    "data2 = data2.rename(columns={'Attrition': 'Churn'})\n",
    "\n",
    "# Load to SQL\n",
    "\n",
    "from sqlalchemy import create_engine\n",
    "\n",
    "engine = create_engine('sqlite:///mydata.db')\n",
    "\n",
    "# Write the DataFrame to SQL\n",
    "data2.to_sql('employee_info', con=engine, index=False, if_exists='replace')"
   ]
  },
  {
   "cell_type": "code",
   "execution_count": 31,
   "id": "733d2bdb",
   "metadata": {},
   "outputs": [],
   "source": [
    "%load_ext sql\n",
    "%sql sqlite:///mydata.db"
   ]
  },
  {
   "cell_type": "code",
   "execution_count": 32,
   "id": "46837919",
   "metadata": {},
   "outputs": [
    {
     "name": "stdout",
     "output_type": "stream",
     "text": [
      " * sqlite:///mydata.db\n",
      "Done.\n"
     ]
    },
    {
     "data": {
      "text/html": [
       "<table>\n",
       "    <thead>\n",
       "        <tr>\n",
       "            <th>EmpID</th>\n",
       "            <th>Age</th>\n",
       "            <th>AgeGroup</th>\n",
       "            <th>Churn</th>\n",
       "            <th>BusinessTravel</th>\n",
       "            <th>DailyRate</th>\n",
       "            <th>Department</th>\n",
       "            <th>DistanceFromHome</th>\n",
       "            <th>Education</th>\n",
       "            <th>EducationField</th>\n",
       "            <th>EmployeeCount</th>\n",
       "            <th>EmployeeNumber</th>\n",
       "            <th>EnvironmentSatisfaction</th>\n",
       "            <th>Gender</th>\n",
       "            <th>HourlyRate</th>\n",
       "            <th>JobInvolvement</th>\n",
       "            <th>JobLevel</th>\n",
       "            <th>JobRole</th>\n",
       "            <th>JobSatisfaction</th>\n",
       "            <th>MaritalStatus</th>\n",
       "            <th>MonthlyIncome</th>\n",
       "            <th>SalarySlab</th>\n",
       "            <th>MonthlyRate</th>\n",
       "            <th>NumCompaniesWorked</th>\n",
       "            <th>Over18</th>\n",
       "            <th>OverTime</th>\n",
       "            <th>PercentSalaryHike</th>\n",
       "            <th>PerformanceRating</th>\n",
       "            <th>RelationshipSatisfaction</th>\n",
       "            <th>StandardHours</th>\n",
       "            <th>StockOptionLevel</th>\n",
       "            <th>TotalWorkingYears</th>\n",
       "            <th>TrainingTimesLastYear</th>\n",
       "            <th>WorkLifeBalance</th>\n",
       "            <th>YearsAtCompany</th>\n",
       "            <th>YearsInCurrentRole</th>\n",
       "            <th>YearsSinceLastPromotion</th>\n",
       "            <th>YearsWithCurrManager</th>\n",
       "        </tr>\n",
       "    </thead>\n",
       "    <tbody>\n",
       "        <tr>\n",
       "            <td>RM297</td>\n",
       "            <td>18</td>\n",
       "            <td>18-25</td>\n",
       "            <td>1</td>\n",
       "            <td>Travel_Rarely</td>\n",
       "            <td>230</td>\n",
       "            <td>Research &amp; Development</td>\n",
       "            <td>3.0</td>\n",
       "            <td>3</td>\n",
       "            <td>Life Sciences</td>\n",
       "            <td>1</td>\n",
       "            <td>405</td>\n",
       "            <td>3</td>\n",
       "            <td>0</td>\n",
       "            <td>54.0</td>\n",
       "            <td>3</td>\n",
       "            <td>1</td>\n",
       "            <td>Laboratory Technician</td>\n",
       "            <td>3.0</td>\n",
       "            <td>Single</td>\n",
       "            <td>1420</td>\n",
       "            <td>Upto 5k</td>\n",
       "            <td>25233</td>\n",
       "            <td>1</td>\n",
       "            <td>Y</td>\n",
       "            <td>0</td>\n",
       "            <td>13</td>\n",
       "            <td>3</td>\n",
       "            <td>3</td>\n",
       "            <td>80</td>\n",
       "            <td>0</td>\n",
       "            <td>0</td>\n",
       "            <td>2</td>\n",
       "            <td>3</td>\n",
       "            <td>0</td>\n",
       "            <td>0</td>\n",
       "            <td>0</td>\n",
       "            <td>0.0</td>\n",
       "        </tr>\n",
       "        <tr>\n",
       "            <td>RM302</td>\n",
       "            <td>18</td>\n",
       "            <td>18-25</td>\n",
       "            <td>0</td>\n",
       "            <td>Travel_Rarely</td>\n",
       "            <td>812</td>\n",
       "            <td>Sales</td>\n",
       "            <td>10.0</td>\n",
       "            <td>3</td>\n",
       "            <td>Medical</td>\n",
       "            <td>1</td>\n",
       "            <td>411</td>\n",
       "            <td>4</td>\n",
       "            <td>1</td>\n",
       "            <td>69.0</td>\n",
       "            <td>2</td>\n",
       "            <td>1</td>\n",
       "            <td>Sales Representative</td>\n",
       "            <td>3.0</td>\n",
       "            <td>Single</td>\n",
       "            <td>1200</td>\n",
       "            <td>Upto 5k</td>\n",
       "            <td>9724</td>\n",
       "            <td>1</td>\n",
       "            <td>Y</td>\n",
       "            <td>0</td>\n",
       "            <td>12</td>\n",
       "            <td>3</td>\n",
       "            <td>1</td>\n",
       "            <td>80</td>\n",
       "            <td>0</td>\n",
       "            <td>0</td>\n",
       "            <td>2</td>\n",
       "            <td>3</td>\n",
       "            <td>0</td>\n",
       "            <td>0</td>\n",
       "            <td>0</td>\n",
       "            <td>0.0</td>\n",
       "        </tr>\n",
       "        <tr>\n",
       "            <td>RM458</td>\n",
       "            <td>18</td>\n",
       "            <td>18-25</td>\n",
       "            <td>1</td>\n",
       "            <td>Travel_Frequently</td>\n",
       "            <td>1306</td>\n",
       "            <td>Sales</td>\n",
       "            <td>5.0</td>\n",
       "            <td>3</td>\n",
       "            <td>Marketing</td>\n",
       "            <td>1</td>\n",
       "            <td>614</td>\n",
       "            <td>2</td>\n",
       "            <td>0</td>\n",
       "            <td>69.0</td>\n",
       "            <td>3</td>\n",
       "            <td>1</td>\n",
       "            <td>Sales Representative</td>\n",
       "            <td>2.0</td>\n",
       "            <td>Single</td>\n",
       "            <td>1878</td>\n",
       "            <td>Upto 5k</td>\n",
       "            <td>8059</td>\n",
       "            <td>1</td>\n",
       "            <td>Y</td>\n",
       "            <td>1</td>\n",
       "            <td>14</td>\n",
       "            <td>3</td>\n",
       "            <td>4</td>\n",
       "            <td>80</td>\n",
       "            <td>0</td>\n",
       "            <td>0</td>\n",
       "            <td>3</td>\n",
       "            <td>3</td>\n",
       "            <td>0</td>\n",
       "            <td>0</td>\n",
       "            <td>0</td>\n",
       "            <td>0.0</td>\n",
       "        </tr>\n",
       "        <tr>\n",
       "            <td>RM728</td>\n",
       "            <td>18</td>\n",
       "            <td>18-25</td>\n",
       "            <td>0</td>\n",
       "            <td>Non-Travel</td>\n",
       "            <td>287</td>\n",
       "            <td>Research &amp; Development</td>\n",
       "            <td>5.0</td>\n",
       "            <td>2</td>\n",
       "            <td>Life Sciences</td>\n",
       "            <td>1</td>\n",
       "            <td>1012</td>\n",
       "            <td>2</td>\n",
       "            <td>0</td>\n",
       "            <td>73.0</td>\n",
       "            <td>3</td>\n",
       "            <td>1</td>\n",
       "            <td>Research Scientist</td>\n",
       "            <td>4.0</td>\n",
       "            <td>Single</td>\n",
       "            <td>1051</td>\n",
       "            <td>Upto 5k</td>\n",
       "            <td>13493</td>\n",
       "            <td>1</td>\n",
       "            <td>Y</td>\n",
       "            <td>0</td>\n",
       "            <td>15</td>\n",
       "            <td>3</td>\n",
       "            <td>4</td>\n",
       "            <td>80</td>\n",
       "            <td>0</td>\n",
       "            <td>0</td>\n",
       "            <td>2</td>\n",
       "            <td>3</td>\n",
       "            <td>0</td>\n",
       "            <td>0</td>\n",
       "            <td>0</td>\n",
       "            <td>0.0</td>\n",
       "        </tr>\n",
       "        <tr>\n",
       "            <td>RM829</td>\n",
       "            <td>18</td>\n",
       "            <td>18-25</td>\n",
       "            <td>1</td>\n",
       "            <td>Non-Travel</td>\n",
       "            <td>247</td>\n",
       "            <td>Research &amp; Development</td>\n",
       "            <td>8.0</td>\n",
       "            <td>1</td>\n",
       "            <td>Medical</td>\n",
       "            <td>1</td>\n",
       "            <td>1156</td>\n",
       "            <td>3</td>\n",
       "            <td>0</td>\n",
       "            <td>80.0</td>\n",
       "            <td>3</td>\n",
       "            <td>1</td>\n",
       "            <td>Laboratory Technician</td>\n",
       "            <td>3.0</td>\n",
       "            <td>Single</td>\n",
       "            <td>1904</td>\n",
       "            <td>Upto 5k</td>\n",
       "            <td>13556</td>\n",
       "            <td>1</td>\n",
       "            <td>Y</td>\n",
       "            <td>0</td>\n",
       "            <td>12</td>\n",
       "            <td>3</td>\n",
       "            <td>4</td>\n",
       "            <td>80</td>\n",
       "            <td>0</td>\n",
       "            <td>0</td>\n",
       "            <td>0</td>\n",
       "            <td>3</td>\n",
       "            <td>0</td>\n",
       "            <td>0</td>\n",
       "            <td>0</td>\n",
       "            <td>0.0</td>\n",
       "        </tr>\n",
       "    </tbody>\n",
       "</table>"
      ],
      "text/plain": [
       "[('RM297', 18, '18-25', 1, 'Travel_Rarely', 230, 'Research & Development', 3.0, 3, 'Life Sciences', 1, 405, 3, 0, 54.0, 3, 1, 'Laboratory Technician', 3.0, 'Single', 1420, 'Upto 5k', 25233, 1, 'Y', 0, 13, 3, 3, 80, 0, 0, 2, 3, 0, 0, 0, 0.0),\n",
       " ('RM302', 18, '18-25', 0, 'Travel_Rarely', 812, 'Sales', 10.0, 3, 'Medical', 1, 411, 4, 1, 69.0, 2, 1, 'Sales Representative', 3.0, 'Single', 1200, 'Upto 5k', 9724, 1, 'Y', 0, 12, 3, 1, 80, 0, 0, 2, 3, 0, 0, 0, 0.0),\n",
       " ('RM458', 18, '18-25', 1, 'Travel_Frequently', 1306, 'Sales', 5.0, 3, 'Marketing', 1, 614, 2, 0, 69.0, 3, 1, 'Sales Representative', 2.0, 'Single', 1878, 'Upto 5k', 8059, 1, 'Y', 1, 14, 3, 4, 80, 0, 0, 3, 3, 0, 0, 0, 0.0),\n",
       " ('RM728', 18, '18-25', 0, 'Non-Travel', 287, 'Research & Development', 5.0, 2, 'Life Sciences', 1, 1012, 2, 0, 73.0, 3, 1, 'Research Scientist', 4.0, 'Single', 1051, 'Upto 5k', 13493, 1, 'Y', 0, 15, 3, 4, 80, 0, 0, 2, 3, 0, 0, 0, 0.0),\n",
       " ('RM829', 18, '18-25', 1, 'Non-Travel', 247, 'Research & Development', 8.0, 1, 'Medical', 1, 1156, 3, 0, 80.0, 3, 1, 'Laboratory Technician', 3.0, 'Single', 1904, 'Upto 5k', 13556, 1, 'Y', 0, 12, 3, 4, 80, 0, 0, 0, 3, 0, 0, 0, 0.0)]"
      ]
     },
     "execution_count": 32,
     "metadata": {},
     "output_type": "execute_result"
    }
   ],
   "source": [
    "%%sql\n",
    "SELECT \n",
    "    *\n",
    "FROM employee_info\n",
    "LIMIT 5;"
   ]
  },
  {
   "cell_type": "code",
   "execution_count": 33,
   "id": "49770b05",
   "metadata": {},
   "outputs": [
    {
     "name": "stdout",
     "output_type": "stream",
     "text": [
      " * sqlite:///mydata.db\n",
      "Done.\n"
     ]
    },
    {
     "data": {
      "text/html": [
       "<table>\n",
       "    <thead>\n",
       "        <tr>\n",
       "            <th>Department</th>\n",
       "            <th>churn_rate</th>\n",
       "        </tr>\n",
       "    </thead>\n",
       "    <tbody>\n",
       "        <tr>\n",
       "            <td>Sales</td>\n",
       "            <td>0.21</td>\n",
       "        </tr>\n",
       "        <tr>\n",
       "            <td>Human Resources</td>\n",
       "            <td>0.19</td>\n",
       "        </tr>\n",
       "        <tr>\n",
       "            <td>Research &amp; Development</td>\n",
       "            <td>0.14</td>\n",
       "        </tr>\n",
       "    </tbody>\n",
       "</table>"
      ],
      "text/plain": [
       "[('Sales', 0.21), ('Human Resources', 0.19), ('Research & Development', 0.14)]"
      ]
     },
     "execution_count": 33,
     "metadata": {},
     "output_type": "execute_result"
    }
   ],
   "source": [
    "%%sql\n",
    "SELECT \n",
    "    Department,\n",
    "    ROUND(SUM(Churn) * 1.0 / COUNT(*),2) AS churn_rate\n",
    "FROM employee_info\n",
    "GROUP BY 1\n",
    "Order BY 2 DESC;"
   ]
  },
  {
   "cell_type": "code",
   "execution_count": 34,
   "id": "c7cc5222",
   "metadata": {},
   "outputs": [
    {
     "name": "stdout",
     "output_type": "stream",
     "text": [
      " * sqlite:///mydata.db\n",
      "Done.\n"
     ]
    },
    {
     "data": {
      "text/html": [
       "<table>\n",
       "    <thead>\n",
       "        <tr>\n",
       "            <th>JobRole</th>\n",
       "            <th>churn_rate</th>\n",
       "        </tr>\n",
       "    </thead>\n",
       "    <tbody>\n",
       "        <tr>\n",
       "            <td>Sales Representative</td>\n",
       "            <td>0.39</td>\n",
       "        </tr>\n",
       "        <tr>\n",
       "            <td>Laboratory Technician</td>\n",
       "            <td>0.24</td>\n",
       "        </tr>\n",
       "        <tr>\n",
       "            <td>Human Resources</td>\n",
       "            <td>0.23</td>\n",
       "        </tr>\n",
       "        <tr>\n",
       "            <td>Sales Executive</td>\n",
       "            <td>0.17</td>\n",
       "        </tr>\n",
       "        <tr>\n",
       "            <td>Research Scientist</td>\n",
       "            <td>0.16</td>\n",
       "        </tr>\n",
       "        <tr>\n",
       "            <td>Manufacturing Director</td>\n",
       "            <td>0.07</td>\n",
       "        </tr>\n",
       "        <tr>\n",
       "            <td>Healthcare Representative</td>\n",
       "            <td>0.07</td>\n",
       "        </tr>\n",
       "        <tr>\n",
       "            <td>Manager</td>\n",
       "            <td>0.05</td>\n",
       "        </tr>\n",
       "        <tr>\n",
       "            <td>Research Director</td>\n",
       "            <td>0.03</td>\n",
       "        </tr>\n",
       "    </tbody>\n",
       "</table>"
      ],
      "text/plain": [
       "[('Sales Representative', 0.39),\n",
       " ('Laboratory Technician', 0.24),\n",
       " ('Human Resources', 0.23),\n",
       " ('Sales Executive', 0.17),\n",
       " ('Research Scientist', 0.16),\n",
       " ('Manufacturing Director', 0.07),\n",
       " ('Healthcare Representative', 0.07),\n",
       " ('Manager', 0.05),\n",
       " ('Research Director', 0.03)]"
      ]
     },
     "execution_count": 34,
     "metadata": {},
     "output_type": "execute_result"
    }
   ],
   "source": [
    "%%sql\n",
    "SELECT \n",
    "    JobRole,\n",
    "    ROUND(SUM(Churn) * 1.0 / COUNT(*),2) AS churn_rate\n",
    "FROM employee_info\n",
    "GROUP BY 1\n",
    "ORDER BY 2 DESC;"
   ]
  },
  {
   "cell_type": "code",
   "execution_count": 35,
   "id": "e2122b7b",
   "metadata": {},
   "outputs": [
    {
     "name": "stdout",
     "output_type": "stream",
     "text": [
      " * sqlite:///mydata.db\n",
      "Done.\n"
     ]
    },
    {
     "data": {
      "text/html": [
       "<table>\n",
       "    <thead>\n",
       "        <tr>\n",
       "            <th>AgeGroup</th>\n",
       "            <th>churn_rate</th>\n",
       "        </tr>\n",
       "    </thead>\n",
       "    <tbody>\n",
       "        <tr>\n",
       "            <td>18-25</td>\n",
       "            <td>0.36</td>\n",
       "        </tr>\n",
       "        <tr>\n",
       "            <td>26-35</td>\n",
       "            <td>0.19</td>\n",
       "        </tr>\n",
       "        <tr>\n",
       "            <td>55</td>\n",
       "            <td>0.17</td>\n",
       "        </tr>\n",
       "        <tr>\n",
       "            <td>46-55</td>\n",
       "            <td>0.12</td>\n",
       "        </tr>\n",
       "        <tr>\n",
       "            <td>36-45</td>\n",
       "            <td>0.09</td>\n",
       "        </tr>\n",
       "    </tbody>\n",
       "</table>"
      ],
      "text/plain": [
       "[('18-25', 0.36),\n",
       " ('26-35', 0.19),\n",
       " ('55', 0.17),\n",
       " ('46-55', 0.12),\n",
       " ('36-45', 0.09)]"
      ]
     },
     "execution_count": 35,
     "metadata": {},
     "output_type": "execute_result"
    }
   ],
   "source": [
    "%%sql\n",
    "SELECT \n",
    "    AgeGroup,\n",
    "    ROUND(SUM(Churn) * 1.0 / COUNT(*),2) AS churn_rate\n",
    "FROM employee_info\n",
    "GROUP BY 1\n",
    "ORDER BY 2 DESC;"
   ]
  },
  {
   "cell_type": "markdown",
   "id": "70a7a40a",
   "metadata": {},
   "source": [
    "Sales department and sales role have the highest churn rates. Age group from 18 to 25 (youngest age group) has the highest churn rate.  \n",
    "**Why?**  \n",
    "To find out the possible reason, I take a look at the correlation with Department_Sales and AgeGroup = 0."
   ]
  },
  {
   "cell_type": "code",
   "execution_count": 36,
   "id": "d128e6c0",
   "metadata": {},
   "outputs": [
    {
     "name": "stdout",
     "output_type": "stream",
     "text": [
      "OT: 0.28635346756152125 0.2807017543859649\n",
      "YearsSinceLastPromotion: 2.348993288590604 2.112085769980507\n"
     ]
    }
   ],
   "source": [
    "# For Sales department only\n",
    "sales_group = data1[data1[\"Department_Sales\"] == True]\n",
    "\n",
    "# Compare against other departments\n",
    "non_sales = data1[data1[\"Department_Sales\"] == False]\n",
    "\n",
    "# Compare distributions or averages\n",
    "print(\"OT:\", sales_group[\"OverTime\"].mean(), non_sales[\"OverTime\"].mean())\n",
    "print(\"YearsSinceLastPromotion:\", sales_group[\"YearsSinceLastPromotion\"].mean(), non_sales[\"YearsSinceLastPromotion\"].mean())"
   ]
  },
  {
   "cell_type": "markdown",
   "id": "d2a521df",
   "metadata": {},
   "source": [
    "Sales team has the higher average of OverTime and YearsSinceLastPromotion comparing with other departments. Those 2 factors can be reasons that sales employees are more likely to churn."
   ]
  },
  {
   "cell_type": "markdown",
   "id": "6d4d9197",
   "metadata": {},
   "source": [
    "## Can we identify at-risk employees early enough to intervene?"
   ]
  },
  {
   "cell_type": "markdown",
   "id": "16292ce4",
   "metadata": {},
   "source": [
    "To achieve that, I tested 3 different models, and found the best model (logistic regression) for more accurate prediction. "
   ]
  },
  {
   "cell_type": "code",
   "execution_count": 37,
   "id": "169cb65b",
   "metadata": {},
   "outputs": [],
   "source": [
    "from sklearn.ensemble import RandomForestClassifier\n",
    "from sklearn.model_selection import train_test_split\n",
    "from sklearn.tree import DecisionTreeClassifier\n",
    "from sklearn.metrics import accuracy_score\n",
    "from sklearn.metrics import classification_report, confusion_matrix, ConfusionMatrixDisplay"
   ]
  },
  {
   "cell_type": "code",
   "execution_count": 38,
   "id": "4e129b6c",
   "metadata": {},
   "outputs": [],
   "source": [
    "# Define features (x) and target (y)\n",
    "\n",
    "x = data1.drop(\"Churn\", axis = 1)\n",
    "y = data1[\"Churn\"]\n",
    "\n",
    "x_train, x_test, y_train, y_test = train_test_split(x, y, test_size=0.3, random_state=123)"
   ]
  },
  {
   "cell_type": "markdown",
   "id": "5bf1f66c",
   "metadata": {},
   "source": [
    "Model 1: Random Forest"
   ]
  },
  {
   "cell_type": "code",
   "execution_count": 39,
   "id": "4175de05",
   "metadata": {},
   "outputs": [
    {
     "name": "stdout",
     "output_type": "stream",
     "text": [
      "              precision    recall  f1-score   support\n",
      "\n",
      "        Stay       0.85      0.99      0.91       365\n",
      "       Leave       0.72      0.17      0.27        77\n",
      "\n",
      "    accuracy                           0.84       442\n",
      "   macro avg       0.79      0.58      0.59       442\n",
      "weighted avg       0.83      0.84      0.80       442\n",
      "\n"
     ]
    },
    {
     "data": {
      "text/plain": [
       "<sklearn.metrics._plot.confusion_matrix.ConfusionMatrixDisplay at 0x7fcc71a0e6a0>"
      ]
     },
     "execution_count": 39,
     "metadata": {},
     "output_type": "execute_result"
    },
    {
     "data": {
      "image/png": "[encoded data removed]",
      "text/plain": [
       "<Figure size 432x288 with 2 Axes>"
      ]
     },
     "metadata": {
      "needs_background": "light"
     },
     "output_type": "display_data"
    }
   ],
   "source": [
    "# build and retrain the random forest model\n",
    "rf = RandomForestClassifier(random_state=123)\n",
    "rf.fit(x_train, y_train)\n",
    "\n",
    "# Get top 20 features from the new model\n",
    "importances = pd.Series(rf.feature_importances_, index=x_train.columns)\n",
    "top_features = importances.sort_values(ascending=False).head(20).index\n",
    "\n",
    "# Subset the new split\n",
    "x_train_top20 = x_train[top_features]\n",
    "x_test_top20 = x_test[top_features]\n",
    "\n",
    "# Now train your final model\n",
    "rf_top20 = RandomForestClassifier(random_state=123)\n",
    "rf_top20.fit(x_train_top20, y_train)\n",
    "\n",
    "#Predict\n",
    "y_pred_rf = rf_top20.predict(x_test_top20)\n",
    "\n",
    "#Evaluate\n",
    "print(classification_report(y_test, y_pred_rf, target_names=[\"Stay\", \"Leave\"]))\n",
    "cm = confusion_matrix(y_test, y_pred_rf)\n",
    "disp = ConfusionMatrixDisplay(confusion_matrix = cm, display_labels = [\"Stay\", \"Leave\"])\n",
    "disp.plot(cmap = \"Blues\")"
   ]
  },
  {
   "cell_type": "markdown",
   "id": "524c031e",
   "metadata": {},
   "source": [
    "Model 2: Decision Tree"
   ]
  },
  {
   "cell_type": "code",
   "execution_count": 40,
   "id": "c4afb43f",
   "metadata": {},
   "outputs": [],
   "source": [
    "# Create Decision Tree model\n",
    "\n",
    "pruned = DecisionTreeClassifier(max_depth = 10, random_state = 123) #the tree only ask max of 4 questions in a row, reducing complexity\n",
    "pruned.fit(x_train_top20, y_train)\n",
    "\n",
    "# Apply model\n",
    "y_pruned_pred = pruned.predict(x_test_top20)"
   ]
  },
  {
   "cell_type": "code",
   "execution_count": 41,
   "id": "383246f1",
   "metadata": {},
   "outputs": [
    {
     "name": "stdout",
     "output_type": "stream",
     "text": [
      "              precision    recall  f1-score   support\n",
      "\n",
      "        Stay       0.86      0.89      0.87       365\n",
      "       Leave       0.37      0.31      0.34        77\n",
      "\n",
      "    accuracy                           0.79       442\n",
      "   macro avg       0.61      0.60      0.61       442\n",
      "weighted avg       0.77      0.79      0.78       442\n",
      "\n"
     ]
    },
    {
     "data": {
      "text/plain": [
       "<sklearn.metrics._plot.confusion_matrix.ConfusionMatrixDisplay at 0x7fcc71aca760>"
      ]
     },
     "execution_count": 41,
     "metadata": {},
     "output_type": "execute_result"
    },
    {
     "data": {
      "image/png": "[encoded data removed]",
      "text/plain": [
       "<Figure size 432x288 with 2 Axes>"
      ]
     },
     "metadata": {
      "needs_background": "light"
     },
     "output_type": "display_data"
    }
   ],
   "source": [
    "# Evaluate model: Precision, Recall, F1\n",
    "print(classification_report(y_test, y_pruned_pred, target_names = [\"Stay\", \"Leave\"]))\n",
    "\n",
    "#Confusion matrix\n",
    "cm = confusion_matrix(y_test, y_pruned_pred)\n",
    "\n",
    "#Display it with labels\n",
    "disp = ConfusionMatrixDisplay(confusion_matrix = cm, display_labels = [\"Stay\", \"Leave\"])\n",
    "disp.plot(cmap = \"Blues\")"
   ]
  },
  {
   "cell_type": "markdown",
   "id": "a5369391",
   "metadata": {},
   "source": [
    "A low precision and recall score here shows that the model is not doing a better job than random guessing.  "
   ]
  },
  {
   "cell_type": "markdown",
   "id": "46c16863",
   "metadata": {},
   "source": [
    "Model 3: XGB"
   ]
  },
  {
   "cell_type": "code",
   "execution_count": 42,
   "id": "075a551f",
   "metadata": {
    "scrolled": true
   },
   "outputs": [],
   "source": [
    "from xgboost import XGBClassifier\n",
    "from sklearn.metrics import classification_report, confusion_matrix, ConfusionMatrixDisplay"
   ]
  },
  {
   "cell_type": "code",
   "execution_count": 43,
   "id": "9c8365fa",
   "metadata": {},
   "outputs": [
    {
     "name": "stdout",
     "output_type": "stream",
     "text": [
      "📋 Classification Report:\n",
      "\n",
      "              precision    recall  f1-score   support\n",
      "\n",
      "        Stay       0.87      0.96      0.91       365\n",
      "       Leave       0.62      0.31      0.41        77\n",
      "\n",
      "    accuracy                           0.85       442\n",
      "   macro avg       0.74      0.64      0.66       442\n",
      "weighted avg       0.82      0.85      0.82       442\n",
      "\n",
      "📉 Confusion Matrix:\n"
     ]
    },
    {
     "data": {
      "image/png": "[encoded data removed]",
      "text/plain": [
       "<Figure size 432x288 with 2 Axes>"
      ]
     },
     "metadata": {
      "needs_background": "light"
     },
     "output_type": "display_data"
    }
   ],
   "source": [
    "# XGB model\n",
    "xgb = XGBClassifier(eval_metric='logloss', random_state=123)\n",
    "xgb.fit(x_train_top20, y_train)\n",
    "\n",
    "# Step 4: Make predictions\n",
    "y_pred_xgb = xgb.predict(x_test_top20)\n",
    "\n",
    "# Step 5: Evaluate the model\n",
    "print(\"📋 Classification Report:\\n\")\n",
    "print(classification_report(y_test, y_pred_xgb, target_names=[\"Stay\", \"Leave\"]))\n",
    "\n",
    "print(\"📉 Confusion Matrix:\")\n",
    "cm = confusion_matrix(y_test, y_pred_xgb)\n",
    "disp = ConfusionMatrixDisplay(confusion_matrix=cm, display_labels=[\"Stay\", \"Leave\"])\n",
    "disp.plot(cmap=\"Blues\")\n",
    "plt.show()"
   ]
  },
  {
   "cell_type": "markdown",
   "id": "b9d753cf",
   "metadata": {},
   "source": [
    "Model 4 (Best Performer): Logistic Regression"
   ]
  },
  {
   "cell_type": "code",
   "execution_count": 44,
   "id": "08dba538",
   "metadata": {},
   "outputs": [],
   "source": [
    "from sklearn.linear_model import LogisticRegression"
   ]
  },
  {
   "cell_type": "code",
   "execution_count": 45,
   "id": "8a4ae28d",
   "metadata": {},
   "outputs": [
    {
     "name": "stdout",
     "output_type": "stream",
     "text": [
      "📋 Classification Report:\n",
      "\n",
      "              precision    recall  f1-score   support\n",
      "\n",
      "        Stay       0.92      0.75      0.83       365\n",
      "       Leave       0.37      0.69      0.48        77\n",
      "\n",
      "    accuracy                           0.74       442\n",
      "   macro avg       0.64      0.72      0.65       442\n",
      "weighted avg       0.82      0.74      0.77       442\n",
      "\n"
     ]
    },
    {
     "data": {
      "image/png": "[encoded data removed]",
      "text/plain": [
       "<Figure size 432x288 with 2 Axes>"
      ]
     },
     "metadata": {
      "needs_background": "light"
     },
     "output_type": "display_data"
    }
   ],
   "source": [
    "# Train logistic regression with class weighting\n",
    "logreg = LogisticRegression(class_weight='balanced', max_iter=1000, random_state=123)\n",
    "logreg.fit(x_train_top20, y_train)\n",
    "\n",
    "# Predict\n",
    "y_pred_logreg = logreg.predict(x_test_top20)\n",
    "\n",
    "# Evaluate\n",
    "print(\"📋 Classification Report:\\n\")\n",
    "print(classification_report(y_test, y_pred_logreg, target_names=[\"Stay\", \"Leave\"]))\n",
    "\n",
    "# Confusion matrix\n",
    "cm_logreg = confusion_matrix(y_test, y_pred_logreg)\n",
    "disp = ConfusionMatrixDisplay(confusion_matrix=cm_logreg, display_labels=[\"Stay\", \"Leave\"])\n",
    "disp.plot(cmap=\"Blues\")\n",
    "plt.show()"
   ]
  },
  {
   "cell_type": "markdown",
   "id": "a993b5e4",
   "metadata": {},
   "source": [
    "Logistic regression model performs the best at recalling. HR can identify at-risk employees and prevent losing top talant by offering training, mentorship, or retention bonuses."
   ]
  },
  {
   "cell_type": "code",
   "execution_count": 48,
   "id": "564012b8",
   "metadata": {},
   "outputs": [
    {
     "data": {
      "text/html": [
       "<div>\n",
       "<style scoped>\n",
       "    .dataframe tbody tr th:only-of-type {\n",
       "        vertical-align: middle;\n",
       "    }\n",
       "\n",
       "    .dataframe tbody tr th {\n",
       "        vertical-align: top;\n",
       "    }\n",
       "\n",
       "    .dataframe thead th {\n",
       "        text-align: right;\n",
       "    }\n",
       "</style>\n",
       "<table border=\"1\" class=\"dataframe\">\n",
       "  <thead>\n",
       "    <tr style=\"text-align: right;\">\n",
       "      <th></th>\n",
       "      <th>Accuracy</th>\n",
       "      <th>Precision (Leave)</th>\n",
       "      <th>Recall (Leave)</th>\n",
       "      <th>F1-score (Leave)</th>\n",
       "    </tr>\n",
       "  </thead>\n",
       "  <tbody>\n",
       "    <tr>\n",
       "      <th>Logistic Regression</th>\n",
       "      <td>0.74</td>\n",
       "      <td>0.37</td>\n",
       "      <td>0.69</td>\n",
       "      <td>0.48</td>\n",
       "    </tr>\n",
       "    <tr>\n",
       "      <th>Random Forest</th>\n",
       "      <td>0.84</td>\n",
       "      <td>0.72</td>\n",
       "      <td>0.17</td>\n",
       "      <td>0.27</td>\n",
       "    </tr>\n",
       "    <tr>\n",
       "      <th>XGBoost</th>\n",
       "      <td>0.85</td>\n",
       "      <td>0.62</td>\n",
       "      <td>0.31</td>\n",
       "      <td>0.41</td>\n",
       "    </tr>\n",
       "    <tr>\n",
       "      <th>Decision Tree</th>\n",
       "      <td>0.79</td>\n",
       "      <td>0.37</td>\n",
       "      <td>0.31</td>\n",
       "      <td>0.34</td>\n",
       "    </tr>\n",
       "  </tbody>\n",
       "</table>\n",
       "</div>"
      ],
      "text/plain": [
       "                     Accuracy  Precision (Leave)  Recall (Leave)  \\\n",
       "Logistic Regression      0.74               0.37            0.69   \n",
       "Random Forest            0.84               0.72            0.17   \n",
       "XGBoost                  0.85               0.62            0.31   \n",
       "Decision Tree            0.79               0.37            0.31   \n",
       "\n",
       "                     F1-score (Leave)  \n",
       "Logistic Regression              0.48  \n",
       "Random Forest                    0.27  \n",
       "XGBoost                          0.41  \n",
       "Decision Tree                    0.34  "
      ]
     },
     "execution_count": 48,
     "metadata": {},
     "output_type": "execute_result"
    }
   ],
   "source": [
    "models = {\n",
    "    \"Logistic Regression\": LogisticRegression(class_weight='balanced', max_iter=1000, random_state=123),\n",
    "    \"Random Forest\": RandomForestClassifier(random_state=123),\n",
    "    \"XGBoost\": XGBClassifier(eval_metric='logloss', random_state=123),\n",
    "    \"Decision Tree\": DecisionTreeClassifier(max_depth = 10, random_state = 123)\n",
    "}\n",
    "\n",
    "results = {}\n",
    "for name, model in models.items():\n",
    "    model.fit(x_train_top20, y_train)\n",
    "    y_pred = model.predict(x_test_top20)\n",
    "\n",
    "    report = classification_report(y_test, y_pred, output_dict=True)\n",
    "    accuracy = accuracy_score(y_test, y_pred)\n",
    "    results[name] = {\n",
    "        \"Accuracy\": accuracy,\n",
    "        \"Precision (Leave)\": report[\"1\"][\"precision\"],\n",
    "        \"Recall (Leave)\": report[\"1\"][\"recall\"],\n",
    "        \"F1-score (Leave)\": report[\"1\"][\"f1-score\"]\n",
    "    }\n",
    "    \n",
    "summary_df = pd.DataFrame(results).T\n",
    "summary_df = summary_df.round(2)\n",
    "summary_df"
   ]
  },
  {
   "cell_type": "markdown",
   "id": "84678c69",
   "metadata": {},
   "source": [
    "### How to Use this Prediction Model?\n",
    "Run the model on updated employee data regularly and flag high-risk employees and take actions. Track whether interventions reduce churn"
   ]
  },
  {
   "cell_type": "code",
   "execution_count": 49,
   "id": "56206e84",
   "metadata": {},
   "outputs": [],
   "source": [
    "data3 = pd.read_csv(\"/Users/leanhe/Desktop/Github/Employee_Churn_Analytics/Employee_info2.csv\")"
   ]
  },
  {
   "cell_type": "code",
   "execution_count": 50,
   "id": "dc1b5137",
   "metadata": {},
   "outputs": [],
   "source": [
    "#Data Processing\n",
    "data3.drop(columns=[\n",
    "    'Over18', \n",
    "    'EmployeeNumber', \n",
    "    'StandardHours', \n",
    "    'EducationField', \n",
    "    'EmployeeCount',\n",
    "    'JobInvolvement',\n",
    "    'PercentSalaryHike',\n",
    "    'TotalWorkingYears',\n",
    "    'TrainingTimesLastYear',\n",
    "    'MaritalStatus',\n",
    "    'Gender',\n",
    "    'Age', \n",
    "    'DailyRate', \n",
    "    'HourlyRate',\n",
    "    'MonthlyRate', \n",
    "    'MonthlyIncome'    \n",
    "], inplace=True)\n",
    "\n",
    "data3.dropna(inplace=True)\n",
    "data3.drop_duplicates(inplace=True)\n",
    "\n",
    "# Convert Yes/No to 1/0\n",
    "data3['Attrition'] = data3['Attrition'].map({'Yes': 1, 'No': 0})\n",
    "data3['OverTime'] = data3['OverTime'].map({'Yes': 1, 'No': 0})\n",
    "\n",
    "# Rename column Attrition\n",
    "data3.rename(columns={'Attrition': 'Churn'}, inplace=True)\n",
    "\n",
    "#1. Change the type from object to category\n",
    "data3.AgeGroup = data3.AgeGroup.astype(\"category\")\n",
    "data3.SalarySlab = data3.SalarySlab.astype(\"category\")\n",
    "\n",
    "#2. Give the values an order\n",
    "data3.AgeGroup = data3.AgeGroup.cat.reorder_categories(['18-25', '26-35', '36-45', '46-55', '55'])\n",
    "data3.SalarySlab = data3.SalarySlab.cat.reorder_categories(['Upto 5k','5k-10k','10k-15k','15k+'])\n",
    "\n",
    "#3. Encode categories with integer values\n",
    "data3.AgeGroup = data3.AgeGroup.cat.codes\n",
    "data3.SalarySlab = data3.SalarySlab.cat.codes\n",
    "\n",
    "data3 = pd.get_dummies(data3, columns=[\n",
    "    'BusinessTravel', \n",
    "    'Department', \n",
    "    'JobRole'\n",
    "], drop_first=True)"
   ]
  },
  {
   "cell_type": "code",
   "execution_count": 51,
   "id": "48235c40",
   "metadata": {},
   "outputs": [
    {
     "data": {
      "text/html": [
       "<div>\n",
       "<style scoped>\n",
       "    .dataframe tbody tr th:only-of-type {\n",
       "        vertical-align: middle;\n",
       "    }\n",
       "\n",
       "    .dataframe tbody tr th {\n",
       "        vertical-align: top;\n",
       "    }\n",
       "\n",
       "    .dataframe thead th {\n",
       "        text-align: right;\n",
       "    }\n",
       "</style>\n",
       "<table border=\"1\" class=\"dataframe\">\n",
       "  <thead>\n",
       "    <tr style=\"text-align: right;\">\n",
       "      <th></th>\n",
       "      <th>EmpID</th>\n",
       "      <th>Churn_Probability</th>\n",
       "    </tr>\n",
       "  </thead>\n",
       "  <tbody>\n",
       "    <tr>\n",
       "      <th>88</th>\n",
       "      <td>RM1061</td>\n",
       "      <td>0.980427</td>\n",
       "    </tr>\n",
       "    <tr>\n",
       "      <th>925</th>\n",
       "      <td>RM670</td>\n",
       "      <td>0.962944</td>\n",
       "    </tr>\n",
       "    <tr>\n",
       "      <th>2</th>\n",
       "      <td>RM458</td>\n",
       "      <td>0.949988</td>\n",
       "    </tr>\n",
       "    <tr>\n",
       "      <th>113</th>\n",
       "      <td>RM912</td>\n",
       "      <td>0.949699</td>\n",
       "    </tr>\n",
       "    <tr>\n",
       "      <th>54</th>\n",
       "      <td>RM1274</td>\n",
       "      <td>0.949569</td>\n",
       "    </tr>\n",
       "    <tr>\n",
       "      <th>246</th>\n",
       "      <td>RM1069</td>\n",
       "      <td>0.940476</td>\n",
       "    </tr>\n",
       "    <tr>\n",
       "      <th>30</th>\n",
       "      <td>RM358</td>\n",
       "      <td>0.938780</td>\n",
       "    </tr>\n",
       "    <tr>\n",
       "      <th>344</th>\n",
       "      <td>RM217</td>\n",
       "      <td>0.937249</td>\n",
       "    </tr>\n",
       "    <tr>\n",
       "      <th>1255</th>\n",
       "      <td>RM1224</td>\n",
       "      <td>0.934379</td>\n",
       "    </tr>\n",
       "    <tr>\n",
       "      <th>512</th>\n",
       "      <td>RM1327</td>\n",
       "      <td>0.934347</td>\n",
       "    </tr>\n",
       "  </tbody>\n",
       "</table>\n",
       "</div>"
      ],
      "text/plain": [
       "       EmpID  Churn_Probability\n",
       "88    RM1061           0.980427\n",
       "925    RM670           0.962944\n",
       "2      RM458           0.949988\n",
       "113    RM912           0.949699\n",
       "54    RM1274           0.949569\n",
       "246   RM1069           0.940476\n",
       "30     RM358           0.938780\n",
       "344    RM217           0.937249\n",
       "1255  RM1224           0.934379\n",
       "512   RM1327           0.934347"
      ]
     },
     "execution_count": 51,
     "metadata": {},
     "output_type": "execute_result"
    }
   ],
   "source": [
    "# Predict churn probability for all employees in data1\n",
    "churn_probs = logreg.predict_proba(data3[top_features])[:, 1]\n",
    "\n",
    "data3[\"Churn_Probability\"] = churn_probs\n",
    "result = data3[[\"EmpID\", \"Churn_Probability\"]]\n",
    "\n",
    "# View top 10 employees most likely to churn\n",
    "result.sort_values(by=\"Churn_Probability\", ascending=False).head(10)"
   ]
  },
  {
   "cell_type": "markdown",
   "id": "848c7bec",
   "metadata": {},
   "source": [
    "The logistic regression model successfully identified the top 10 employees with the highest predicted risk of churn, aligning well with actual outcomes. This suggests the model is effective and reliable. HR teams can confidently leverage this model as an early warning system to proactively identify at-risk employees and take targeted retention actions."
   ]
  },
  {
   "cell_type": "markdown",
   "id": "59102efc",
   "metadata": {},
   "source": [
    "## Tableau Visualization Data Preparation"
   ]
  },
  {
   "cell_type": "markdown",
   "id": "669a2ab8",
   "metadata": {},
   "source": [
    "I handle missing and duplicate rows in Python by removing them, while any additional data manipulation will be performed within Tableau using calculated fields."
   ]
  },
  {
   "cell_type": "code",
   "execution_count": null,
   "id": "832c3278",
   "metadata": {},
   "outputs": [],
   "source": [
    "data_t = pd.read_csv(\"/Users/leanhe/Desktop/Github/HR_Analytics/Employee_info.csv\")\n",
    "data_t.dropna(inplace=True)\n",
    "data_t.drop_duplicates(inplace=True)"
   ]
  },
  {
   "cell_type": "code",
   "execution_count": null,
   "id": "1e44cdad",
   "metadata": {},
   "outputs": [],
   "source": [
    "data_t.to_csv(\"/Users/leanhe/Desktop/Github/HR_Analytics/employee_data_tableau.csv\", index=False)"
   ]
  }
 ],
 "metadata": {
  "kernelspec": {
   "display_name": "Python 3",
   "language": "python",
   "name": "python3"
  },
  "language_info": {
   "codemirror_mode": {
    "name": "ipython",
    "version": 3
   },
   "file_extension": ".py",
   "mimetype": "text/x-python",
   "name": "python",
   "nbconvert_exporter": "python",
   "pygments_lexer": "ipython3",
   "version": "3.8.8"
  }
 },
 "nbformat": 4,
 "nbformat_minor": 5
}
